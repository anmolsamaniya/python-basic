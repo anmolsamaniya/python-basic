{
 "cells": [
  {
   "cell_type": "code",
   "execution_count": 1,
   "id": "bb260d35-1515-4214-b4fd-d13fff7ced1e",
   "metadata": {},
   "outputs": [],
   "source": [
    "d8= {   'numbers ' : (2,3,5,78)  ,'classes': [7,5,8,98] , 'teachers': {7,5,6,2,3}  }"
   ]
  },
  {
   "cell_type": "code",
   "execution_count": 2,
   "id": "28748d92-d33e-4d0c-8326-c2f5ea500631",
   "metadata": {},
   "outputs": [
    {
     "data": {
      "text/plain": [
       "{'numbers ': (2, 3, 5, 78),\n",
       " 'classes': [7, 5, 8, 98],\n",
       " 'teachers': {2, 3, 5, 6, 7}}"
      ]
     },
     "execution_count": 2,
     "metadata": {},
     "output_type": "execute_result"
    }
   ],
   "source": [
    "d8"
   ]
  },
  {
   "cell_type": "code",
   "execution_count": 3,
   "id": "32e62c47-9d85-49f1-b1bd-05d65904e538",
   "metadata": {},
   "outputs": [
    {
     "data": {
      "text/plain": [
       "[7, 5, 8, 98]"
      ]
     },
     "execution_count": 3,
     "metadata": {},
     "output_type": "execute_result"
    }
   ],
   "source": [
    "d8.pop('classes')"
   ]
  },
  {
   "cell_type": "code",
   "execution_count": 7,
   "id": "6b126846-5451-4f60-89ab-351c7737cb94",
   "metadata": {},
   "outputs": [
    {
     "data": {
      "text/plain": [
       "{'numbers ': (2, 3, 5, 78), 'teachers': {2, 3, 5, 6, 7}}"
      ]
     },
     "execution_count": 7,
     "metadata": {},
     "output_type": "execute_result"
    }
   ],
   "source": [
    "d8"
   ]
  },
  {
   "cell_type": "code",
   "execution_count": 8,
   "id": "5e6a34e4-52a2-48ae-8d5e-d7e5fcafcb42",
   "metadata": {},
   "outputs": [],
   "source": [
    "#conditional statements"
   ]
  },
  {
   "cell_type": "code",
   "execution_count": null,
   "id": "52f919ad-f112-432f-beb5-ff1b04e39570",
   "metadata": {},
   "outputs": [],
   "source": [
    "d8"
   ]
  },
  {
   "cell_type": "code",
   "execution_count": 1,
   "id": "965d4e1f-1fab-4ee9-a882-39f349fb8131",
   "metadata": {},
   "outputs": [
    {
     "name": "stdin",
     "output_type": "stream",
     "text": [
      "enter marks 45.3\n"
     ]
    },
    {
     "name": "stdout",
     "output_type": "stream",
     "text": [
      " you will bw the part of A2 batch\n"
     ]
    }
   ],
   "source": [
    "marks = float(input('enter marks'))\n",
    "if marks>=80 :\n",
    "    print ('you will be the part of A0 batch')\n",
    "elif marks>=60 and marks<80:\n",
    "    print ('you will bw the part of A1 batch')\n",
    "elif marks >=40 and marks <60:\n",
    "    print (' you will bw the part of A2 batch')\n",
    "else :\n",
    "    print (' you will be the part of A3 batch')\n",
    "    "
   ]
  },
  {
   "cell_type": "code",
   "execution_count": 2,
   "id": "8241d1fc-1e1a-4828-ac80-56f3d51410c8",
   "metadata": {},
   "outputs": [
    {
     "name": "stdin",
     "output_type": "stream",
     "text": [
      "enter marks 45\n"
     ]
    }
   ],
   "source": [
    "marks = input('enter marks')"
   ]
  },
  {
   "cell_type": "code",
   "execution_count": 3,
   "id": "9a29c6fd-0fbc-448f-9026-42ee203b6eeb",
   "metadata": {},
   "outputs": [
    {
     "data": {
      "text/plain": [
       "'45'"
      ]
     },
     "execution_count": 3,
     "metadata": {},
     "output_type": "execute_result"
    }
   ],
   "source": [
    "marks"
   ]
  },
  {
   "cell_type": "code",
   "execution_count": 4,
   "id": "ad4c4ab8-7217-482c-81e6-b504a9a17717",
   "metadata": {},
   "outputs": [],
   "source": [
    "#typecast string into float for comparision"
   ]
  },
  {
   "cell_type": "code",
   "execution_count": 6,
   "id": "7d6c5e2e-b3d9-4aa1-986d-114af96cab2e",
   "metadata": {},
   "outputs": [
    {
     "name": "stdin",
     "output_type": "stream",
     "text": [
      "enter price 1500\n"
     ]
    },
    {
     "name": "stdout",
     "output_type": "stream",
     "text": [
      " i will think about it \n"
     ]
    }
   ],
   "source": [
    "price = int(input('enter price'))\n",
    "if price>1000:\n",
    "    print (' i will think about it ')\n",
    "else :\n",
    "    print ('i will purchase ')"
   ]
  },
  {
   "cell_type": "code",
   "execution_count": 7,
   "id": "69165518-53c2-4c09-bf8e-965825c1326e",
   "metadata": {},
   "outputs": [],
   "source": [
    "# loops\n"
   ]
  },
  {
   "cell_type": "code",
   "execution_count": 8,
   "id": "c00873d7-e6a1-4bee-a7d8-bb7db576b645",
   "metadata": {},
   "outputs": [],
   "source": [
    "l = [1,2,3,4,5,6,7,8,9]"
   ]
  },
  {
   "cell_type": "code",
   "execution_count": 9,
   "id": "2871553d-d645-4197-a73b-b8f2304c4791",
   "metadata": {},
   "outputs": [
    {
     "data": {
      "text/plain": [
       "[1, 2, 3, 4, 5, 6, 7, 8, 9]"
      ]
     },
     "execution_count": 9,
     "metadata": {},
     "output_type": "execute_result"
    }
   ],
   "source": [
    "l"
   ]
  },
  {
   "cell_type": "code",
   "execution_count": 10,
   "id": "3ecb3334-9b92-40ae-9949-803bc06fee42",
   "metadata": {},
   "outputs": [
    {
     "name": "stdout",
     "output_type": "stream",
     "text": [
      "1\n",
      "2\n",
      "3\n",
      "4\n",
      "5\n",
      "6\n",
      "7\n",
      "8\n",
      "9\n"
     ]
    }
   ],
   "source": [
    "for i in l:\n",
    "    print (i)"
   ]
  },
  {
   "cell_type": "code",
   "execution_count": 11,
   "id": "1db968b2-2a29-4225-8057-af93ff8ec8d1",
   "metadata": {},
   "outputs": [
    {
     "name": "stdout",
     "output_type": "stream",
     "text": [
      "2\n",
      "3\n",
      "4\n",
      "5\n",
      "6\n",
      "7\n",
      "8\n",
      "9\n",
      "10\n"
     ]
    }
   ],
   "source": [
    "for i in l:\n",
    "    print (i+1)"
   ]
  },
  {
   "cell_type": "code",
   "execution_count": 14,
   "id": "4c5ce056-4320-4271-8e99-25d9550a042d",
   "metadata": {},
   "outputs": [
    {
     "name": "stdout",
     "output_type": "stream",
     "text": [
      "2\n",
      "3\n",
      "4\n",
      "5\n",
      "6\n",
      "7\n",
      "8\n",
      "9\n",
      "10\n"
     ]
    },
    {
     "data": {
      "text/plain": [
       "[2, 3, 4, 5, 6, 7, 8, 9, 10]"
      ]
     },
     "execution_count": 14,
     "metadata": {},
     "output_type": "execute_result"
    }
   ],
   "source": [
    "l1=[]\n",
    "for i in l:\n",
    "    print (i+1)\n",
    "    l1.append(i+1)\n",
    "l1"
   ]
  },
  {
   "cell_type": "code",
   "execution_count": 18,
   "id": "30a2aca8-e372-4544-a610-e002fcfe5734",
   "metadata": {},
   "outputs": [],
   "source": [
    "d= ['anmol', 'samaniya', 'data science', 'course']"
   ]
  },
  {
   "cell_type": "code",
   "execution_count": 19,
   "id": "5732cf5b-24d9-4ee2-a071-4ecb3d25599e",
   "metadata": {},
   "outputs": [
    {
     "data": {
      "text/plain": [
       "['anmol', 'samaniya', 'data science', 'course']"
      ]
     },
     "execution_count": 19,
     "metadata": {},
     "output_type": "execute_result"
    }
   ],
   "source": [
    "d"
   ]
  },
  {
   "cell_type": "code",
   "execution_count": 27,
   "id": "b26ce940-0547-4cdf-8b52-03c9c033ebc9",
   "metadata": {},
   "outputs": [
    {
     "name": "stdout",
     "output_type": "stream",
     "text": [
      "anmol\n",
      "samaniya\n",
      "data science\n",
      "course\n"
     ]
    },
    {
     "data": {
      "text/plain": [
       "['ANMOL', 'SAMANIYA', 'DATA SCIENCE', 'COURSE']"
      ]
     },
     "execution_count": 27,
     "metadata": {},
     "output_type": "execute_result"
    }
   ],
   "source": [
    "d1=[]\n",
    "for i in d:\n",
    "    print (i)\n",
    "    d1.append(i.upper())\n",
    "d1"
   ]
  },
  {
   "cell_type": "code",
   "execution_count": 28,
   "id": "65b86a64-da05-4922-a9b7-be6fb15eabb7",
   "metadata": {},
   "outputs": [
    {
     "data": {
      "text/plain": [
       "['ANMOL', 'SAMANIYA', 'DATA SCIENCE', 'COURSE']"
      ]
     },
     "execution_count": 28,
     "metadata": {},
     "output_type": "execute_result"
    }
   ],
   "source": [
    "d1"
   ]
  },
  {
   "cell_type": "code",
   "execution_count": 1,
   "id": "5c8e254b-edc0-4952-bd75-694d537f872b",
   "metadata": {},
   "outputs": [
    {
     "name": "stdin",
     "output_type": "stream",
     "text": [
      "enter city agra\n"
     ]
    },
    {
     "name": "stdout",
     "output_type": "stream",
     "text": [
      "taj mahal\n"
     ]
    }
   ],
   "source": [
    "city = input('enter city')\n",
    "if city == ('delhi'):\n",
    "    print ('red fort')\n",
    "elif city == ('agra'):\n",
    "    print ('taj mahal')\n",
    "elif city == ('jaipur'):\n",
    "    print ('jal mahal')\n",
    "else:\n",
    "    print ('invalid input ')\n",
    "            "
   ]
  },
  {
   "cell_type": "code",
   "execution_count": 1,
   "id": "ab70a831-1724-4b45-ac36-e22dbe2981b4",
   "metadata": {},
   "outputs": [],
   "source": [
    "l1= [1,2,3,4,5.23,6.23,'sample', 'sum', 'sort']"
   ]
  },
  {
   "cell_type": "code",
   "execution_count": 19,
   "id": "8f6aa99e-c2d8-4f2a-a885-4fbe4be239f0",
   "metadata": {},
   "outputs": [
    {
     "data": {
      "text/plain": [
       "[1, 2, 3, 4, 5.23, 6.23, 'sample', 'sum', 'sort']"
      ]
     },
     "execution_count": 19,
     "metadata": {},
     "output_type": "execute_result"
    }
   ],
   "source": [
    "l1"
   ]
  },
  {
   "cell_type": "code",
   "execution_count": 22,
   "id": "18b0cf63-5d2b-46b2-a01d-31eedd360941",
   "metadata": {},
   "outputs": [],
   "source": [
    "l1_num= []\n",
    "l2_str= []\n",
    "for i in l1:\n",
    "    if type(i)==int or type(i)== float:\n",
    "        \n",
    "        l1_num.append(i)\n",
    "else :\n",
    "    l2_str.append(i)"
   ]
  },
  {
   "cell_type": "code",
   "execution_count": 23,
   "id": "20b777d2-c842-4c46-a855-a6404bee7508",
   "metadata": {},
   "outputs": [
    {
     "data": {
      "text/plain": [
       "[1, 2, 3, 4, 5.23, 6.23]"
      ]
     },
     "execution_count": 23,
     "metadata": {},
     "output_type": "execute_result"
    }
   ],
   "source": [
    "l1_num"
   ]
  },
  {
   "cell_type": "code",
   "execution_count": 24,
   "id": "026cd4fb-98cd-4d30-bf67-d7a1632c989f",
   "metadata": {},
   "outputs": [
    {
     "data": {
      "text/plain": [
       "['sort']"
      ]
     },
     "execution_count": 24,
     "metadata": {},
     "output_type": "execute_result"
    }
   ],
   "source": [
    "l2_str"
   ]
  },
  {
   "cell_type": "code",
   "execution_count": null,
   "id": "b19f15c3-cdc8-4874-96db-4c87cf96cded",
   "metadata": {},
   "outputs": [],
   "source": []
  },
  {
   "cell_type": "code",
   "execution_count": null,
   "id": "b34c77b6-be0e-4e29-9774-ace1b1492b85",
   "metadata": {},
   "outputs": [],
   "source": []
  }
 ],
 "metadata": {
  "kernelspec": {
   "display_name": "Python 3 (ipykernel)",
   "language": "python",
   "name": "python3"
  },
  "language_info": {
   "codemirror_mode": {
    "name": "ipython",
    "version": 3
   },
   "file_extension": ".py",
   "mimetype": "text/x-python",
   "name": "python",
   "nbconvert_exporter": "python",
   "pygments_lexer": "ipython3",
   "version": "3.10.8"
  }
 },
 "nbformat": 4,
 "nbformat_minor": 5
}
