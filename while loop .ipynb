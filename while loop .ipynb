{
 "cells": [
  {
   "cell_type": "code",
   "execution_count": 1,
   "id": "d5994b61-33f0-418e-9d3a-903ea194fb54",
   "metadata": {},
   "outputs": [],
   "source": [
    "l=[1,2]"
   ]
  },
  {
   "cell_type": "code",
   "execution_count": 2,
   "id": "17382e81-51f9-4b3e-8db1-fdc49e55fc00",
   "metadata": {},
   "outputs": [
    {
     "data": {
      "text/plain": [
       "[1, 2]"
      ]
     },
     "execution_count": 2,
     "metadata": {},
     "output_type": "execute_result"
    }
   ],
   "source": [
    "l"
   ]
  },
  {
   "cell_type": "code",
   "execution_count": 4,
   "id": "957368a8-5d01-4628-8833-f5f5a12688ce",
   "metadata": {},
   "outputs": [
    {
     "name": "stdin",
     "output_type": "stream",
     "text": [
      "enter number 5\n"
     ]
    },
    {
     "name": "stdout",
     "output_type": "stream",
     "text": [
      "120\n"
     ]
    }
   ],
   "source": [
    "# factorial prok=int(input('enter number'))\n",
    "counter=1\n",
    "\n",
    "while k>0:\n",
    "    counter=counter*k\n",
    "    k=k-1\n",
    "print(counter)"
   ]
  },
  {
   "cell_type": "code",
   "execution_count": 5,
   "id": "8969cd4f-8280-436a-b89c-3b863737156f",
   "metadata": {},
   "outputs": [],
   "source": [
    "#fibonacci series (5=0,1,1,2,3,)5/ (3=0,1,1,)2,3/(4=0,1,1,2),3"
   ]
  },
  {
   "cell_type": "code",
   "execution_count": 10,
   "id": "4a24c8c8-11f2-47cc-a8e8-9ad646e94373",
   "metadata": {},
   "outputs": [
    {
     "name": "stdin",
     "output_type": "stream",
     "text": [
      "enter number 10\n"
     ]
    },
    {
     "name": "stdout",
     "output_type": "stream",
     "text": [
      "0\n",
      "1\n",
      "1\n",
      "2\n",
      "3\n",
      "5\n",
      "8\n",
      "13\n",
      "21\n",
      "34\n"
     ]
    }
   ],
   "source": [
    "n= int(input('enter number'))\n",
    "a,b=0,1\n",
    "counter=0\n",
    "while counter<n:\n",
    "    print(a)\n",
    "    c=a+b\n",
    "    a=b\n",
    "    b=c\n",
    "    counter=counter+1"
   ]
  },
  {
   "cell_type": "code",
   "execution_count": 11,
   "id": "fa589283-53cb-4e41-bdf2-82642c1025ae",
   "metadata": {},
   "outputs": [
    {
     "name": "stdout",
     "output_type": "stream",
     "text": [
      "0\n",
      "1\n",
      "1\n",
      "2\n",
      "3\n",
      "5\n",
      "8\n",
      "13\n",
      "21\n",
      "34\n"
     ]
    }
   ],
   "source": [
    "a,b=0,1\n",
    "for i  in range(10):\n",
    "    print(a)\n",
    "    c=a+b\n",
    "    a=b\n",
    "    b=c"
   ]
  },
  {
   "cell_type": "code",
   "execution_count": 12,
   "id": "2fdca15d-f26c-4e84-8576-4a9c7225db26",
   "metadata": {},
   "outputs": [],
   "source": [
    "s='anmol'"
   ]
  },
  {
   "cell_type": "code",
   "execution_count": 13,
   "id": "4deb2a40-247a-4837-847b-1da599adf437",
   "metadata": {},
   "outputs": [
    {
     "data": {
      "text/plain": [
       "'lomna'"
      ]
     },
     "execution_count": 13,
     "metadata": {},
     "output_type": "execute_result"
    }
   ],
   "source": [
    "s[::-1]"
   ]
  },
  {
   "cell_type": "code",
   "execution_count": 16,
   "id": "ae6e8e9a-8847-46bc-865f-5912fe24de6d",
   "metadata": {},
   "outputs": [
    {
     "name": "stdin",
     "output_type": "stream",
     "text": [
      "enter the word anmol\n"
     ]
    },
    {
     "name": "stdout",
     "output_type": "stream",
     "text": [
      "lomna\n"
     ]
    }
   ],
   "source": [
    "word=input('enter the word')\n",
    "rev=\"\"\n",
    "length=len(word)\n",
    "\n",
    "while length>0:\n",
    "    rev=rev+(word[length-1])\n",
    "    length=length-1\n",
    "print(rev)\n",
    "    "
   ]
  },
  {
   "cell_type": "code",
   "execution_count": 31,
   "id": "a0cb42ad-820b-4bd8-97d3-7212acfab898",
   "metadata": {},
   "outputs": [
    {
     "name": "stdin",
     "output_type": "stream",
     "text": [
      "enter number 10\n"
     ]
    },
    {
     "name": "stdout",
     "output_type": "stream",
     "text": [
      "1*10= 10\n",
      "2*10= 20\n",
      "3*10= 30\n",
      "4*10= 40\n",
      "5*10= 50\n",
      "6*10= 60\n",
      "7*10= 70\n",
      "8*10= 80\n",
      "9*10= 90\n",
      "10*10= 100\n"
     ]
    }
   ],
   "source": [
    "n= int(input('enter number'))\n",
    "counter=1\n",
    "while counter<=10:\n",
    "    print( f\"{counter}*{n}=\",counter*n )\n",
    "    counter=counter+1"
   ]
  },
  {
   "cell_type": "code",
   "execution_count": 33,
   "id": "dbf06f2b-ee1b-420b-a74f-5ef842bab628",
   "metadata": {},
   "outputs": [
    {
     "name": "stdout",
     "output_type": "stream",
     "text": [
      "1\n",
      "2\n",
      "3\n",
      "4\n",
      "this will print when the while loop is execute succesfully\n"
     ]
    }
   ],
   "source": [
    "n=5\n",
    "i=1\n",
    "while i<n:\n",
    "    print(i)\n",
    "    i=i+1\n",
    "else:\n",
    "    print('this will print when the while loop is execute succesfully')"
   ]
  },
  {
   "cell_type": "code",
   "execution_count": 34,
   "id": "057cd45a-03af-4863-90b0-07fe7816e061",
   "metadata": {},
   "outputs": [
    {
     "name": "stdout",
     "output_type": "stream",
     "text": [
      "1\n",
      "2\n"
     ]
    }
   ],
   "source": [
    "n=5\n",
    "i=1\n",
    "while i<n:\n",
    "    if i==3:\n",
    "        break\n",
    "    print(i)\n",
    "    i=i+1\n",
    "else:\n",
    "    print('this will print when the while loop is execute succesfully')"
   ]
  },
  {
   "cell_type": "code",
   "execution_count": 37,
   "id": "2e866961-2438-41b0-b8c7-4a4279caa183",
   "metadata": {},
   "outputs": [
    {
     "name": "stdout",
     "output_type": "stream",
     "text": [
      "0\n",
      "1\n",
      "2\n"
     ]
    }
   ],
   "source": [
    "n=range(5)\n",
    "for i in n:\n",
    "    if i==3:\n",
    "        break\n",
    "    print(i)\n",
    "else:\n",
    "    print('this will print when the for  loop is execute succesfully')    "
   ]
  },
  {
   "cell_type": "code",
   "execution_count": 38,
   "id": "b86fe374-638c-4f0e-91ed-534e1b590a29",
   "metadata": {},
   "outputs": [],
   "source": [
    "# if the loop is disturbed in between and not execute succesfully else statement will not print"
   ]
  },
  {
   "cell_type": "code",
   "execution_count": 39,
   "id": "8b759df2-047e-4b28-955a-9a32e1994d86",
   "metadata": {},
   "outputs": [
    {
     "name": "stdout",
     "output_type": "stream",
     "text": [
      "1\n",
      "2\n",
      "3\n",
      "4\n",
      "5\n",
      "6\n",
      "7\n",
      "8\n",
      "9\n",
      "10\n"
     ]
    }
   ],
   "source": [
    "a=1\n",
    "\n",
    "while a<=10:\n",
    "    print(a)\n",
    "    a=a+1"
   ]
  },
  {
   "cell_type": "code",
   "execution_count": 40,
   "id": "57a94b6f-e4ed-4dc7-ac5f-9d8b1cf4478b",
   "metadata": {},
   "outputs": [
    {
     "name": "stdin",
     "output_type": "stream",
     "text": [
      "enter limit 5\n"
     ]
    },
    {
     "data": {
      "text/plain": [
       "15"
      ]
     },
     "execution_count": 40,
     "metadata": {},
     "output_type": "execute_result"
    }
   ],
   "source": [
    "n=int(input('enter limit'))\n",
    "start_point=0\n",
    "counter=1\n",
    "\n",
    "while counter<=n:\n",
    "    start_point=start_point+counter\n",
    "    counter=counter+1\n",
    "start_point"
   ]
  },
  {
   "cell_type": "code",
   "execution_count": null,
   "id": "5e84bab1-60b7-461f-88fa-81be993eaebb",
   "metadata": {},
   "outputs": [],
   "source": []
  }
 ],
 "metadata": {
  "kernelspec": {
   "display_name": "Python 3 (ipykernel)",
   "language": "python",
   "name": "python3"
  },
  "language_info": {
   "codemirror_mode": {
    "name": "ipython",
    "version": 3
   },
   "file_extension": ".py",
   "mimetype": "text/x-python",
   "name": "python",
   "nbconvert_exporter": "python",
   "pygments_lexer": "ipython3",
   "version": "3.10.8"
  }
 },
 "nbformat": 4,
 "nbformat_minor": 5
}
