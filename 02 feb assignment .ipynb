{
 "cells": [
  {
   "cell_type": "code",
   "execution_count": null,
   "id": "bcba6d6a-378c-44d3-a63e-b4628bb28517",
   "metadata": {},
   "outputs": [],
   "source": [
    "# Q.NO. 1 What are the characteristics of the tuples? Is tuple immutable?"
   ]
  },
  {
   "cell_type": "code",
   "execution_count": null,
   "id": "2d67817a-270a-4b47-9376-1329d858a4a4",
   "metadata": {},
   "outputs": [],
   "source": [
    "#Tuples have the given characteristics:\n",
    "#They are indexed.\n",
    "#Tuples are ordered.\n",
    "#These are immutable.\n",
    "#They can contain duplicate items.\n",
    "#tuple items are ordered, unchangeable, and allow duplicate values. \n",
    "#we cannot change tuples values  hence they are immutable ."
   ]
  },
  {
   "cell_type": "code",
   "execution_count": null,
   "id": "8b5e17c3-cf20-4721-a2b8-b5bab7f1a55c",
   "metadata": {},
   "outputs": [],
   "source": [
    "# Q.NO.2 What are the two tuple methods in python? Give an example of each method. \n",
    "#Give a reason why tuples have only two in-built methods as compared to Lists."
   ]
  },
  {
   "cell_type": "code",
   "execution_count": 2,
   "id": "7b52d0c6-7933-4a82-acad-f530eccc0fb2",
   "metadata": {},
   "outputs": [
    {
     "data": {
      "text/plain": [
       "3"
      ]
     },
     "execution_count": 2,
     "metadata": {},
     "output_type": "execute_result"
    }
   ],
   "source": [
    "#There are only two tuple methods count() and index() that a tuple object can call.\n",
    "tuple=  (1,3,4,1,6,1)\n",
    "tuple.count(1)"
   ]
  },
  {
   "cell_type": "code",
   "execution_count": 3,
   "id": "9f2498f4-e664-4075-ad1f-2c3a7b3f94b0",
   "metadata": {},
   "outputs": [
    {
     "data": {
      "text/plain": [
       "0"
      ]
     },
     "execution_count": 3,
     "metadata": {},
     "output_type": "execute_result"
    }
   ],
   "source": [
    "tuple.count(7)"
   ]
  },
  {
   "cell_type": "code",
   "execution_count": 6,
   "id": "e61d8559-ecc0-4b85-b0d9-cf21eb5bc6dd",
   "metadata": {},
   "outputs": [
    {
     "data": {
      "text/plain": [
       "4"
      ]
     },
     "execution_count": 6,
     "metadata": {},
     "output_type": "execute_result"
    }
   ],
   "source": [
    "tuple.index(6)"
   ]
  },
  {
   "cell_type": "code",
   "execution_count": null,
   "id": "bafca011-309d-492a-9d1d-ef682f4a01ad",
   "metadata": {},
   "outputs": [],
   "source": [
    "#We can search any element in a tuple. Tuples are faster than lists, because they have a constant set of values.\n",
    "#Tuples can be used as dictionary keys, because they contain immutable values like strings, numbers, etc."
   ]
  },
  {
   "cell_type": "code",
   "execution_count": null,
   "id": "38af1651-5bf0-409c-9f61-6c02323a75c9",
   "metadata": {},
   "outputs": [],
   "source": [
    "#Q.NO. 3 Which collection datatypes in python do not allow duplicate items? Write a code using a set to remove\n",
    "# duplicates from the given list.List = [1, 1, 1, 2, 1, 3, 1, 4, 2, 1, 2, 2, 2, 3, 2, 4, 3, 1, 3, 2, 3, 3, 3, 4, 4, 1, 4, 2, 4, 3, 4, 4]"
   ]
  },
  {
   "cell_type": "code",
   "execution_count": 11,
   "id": "81a13e80-6912-423e-ac37-52470e0ec914",
   "metadata": {},
   "outputs": [
    {
     "data": {
      "text/plain": [
       "list"
      ]
     },
     "execution_count": 11,
     "metadata": {},
     "output_type": "execute_result"
    }
   ],
   "source": [
    "#Sets Sets are a collection that is unordered and unindexed. They are mutable (changeable) but do not allow duplicate values to be held.\n",
    "list = [1, 1, 1, 2, 1, 3, 1, 4, 2, 1, 2, 2, 2, 3, 2, 4, 3, 1, 3, 2, 3, 3, 3, 4, 4, 1, 4, 2, 4, 3, 4, 4]\n",
    "type(list)"
   ]
  },
  {
   "cell_type": "code",
   "execution_count": 12,
   "id": "0421b827-11b0-4812-90b9-e306ea3610c8",
   "metadata": {},
   "outputs": [],
   "source": [
    "s1= set(list)"
   ]
  },
  {
   "cell_type": "code",
   "execution_count": 13,
   "id": "e37056a2-8cad-4dc2-ac62-4ea16896d435",
   "metadata": {},
   "outputs": [
    {
     "data": {
      "text/plain": [
       "{1, 2, 3, 4}"
      ]
     },
     "execution_count": 13,
     "metadata": {},
     "output_type": "execute_result"
    }
   ],
   "source": [
    "s1"
   ]
  },
  {
   "cell_type": "code",
   "execution_count": null,
   "id": "1f867bdd-9d10-45f1-996b-762517da7144",
   "metadata": {},
   "outputs": [],
   "source": [
    "#Q.NO. 4 Explain the difference between the union() and update() methods for a set. Give an example of each method."
   ]
  },
  {
   "cell_type": "code",
   "execution_count": null,
   "id": "e873a71f-4b41-462a-838a-00cbac3830c0",
   "metadata": {},
   "outputs": [],
   "source": [
    "#the main difference between the union() method and the update() method is that union() returns a new set that contains \n",
    "#all the elements from both sets, while update() modifies one of the sets to include all the elements from both sets.\n"
   ]
  },
  {
   "cell_type": "code",
   "execution_count": 16,
   "id": "62372028-9615-4460-8016-124d6115e234",
   "metadata": {},
   "outputs": [],
   "source": [
    "A = {1,2,3,4,5}\n",
    "B = {4,5,6,7,8,9}\n"
   ]
  },
  {
   "cell_type": "code",
   "execution_count": 17,
   "id": "93c2c21d-162c-4b87-82b3-be6841bc9ecf",
   "metadata": {},
   "outputs": [],
   "source": [
    "S = A.union(B)"
   ]
  },
  {
   "cell_type": "code",
   "execution_count": 18,
   "id": "cb10bead-9506-496a-b199-2de9d75babe4",
   "metadata": {},
   "outputs": [
    {
     "data": {
      "text/plain": [
       "{1, 2, 3, 4, 5, 6, 7, 8, 9}"
      ]
     },
     "execution_count": 18,
     "metadata": {},
     "output_type": "execute_result"
    }
   ],
   "source": [
    "S"
   ]
  },
  {
   "cell_type": "code",
   "execution_count": 24,
   "id": "0eb79579-310d-4e98-acd3-cd01b22c923e",
   "metadata": {},
   "outputs": [],
   "source": [
    " A |= B"
   ]
  },
  {
   "cell_type": "code",
   "execution_count": 25,
   "id": "832f35e6-1665-439e-8a76-994167bc701f",
   "metadata": {},
   "outputs": [
    {
     "data": {
      "text/plain": [
       "{1, 2, 3, 4, 5, 6, 7, 8, 9}"
      ]
     },
     "execution_count": 25,
     "metadata": {},
     "output_type": "execute_result"
    }
   ],
   "source": [
    "A"
   ]
  },
  {
   "cell_type": "code",
   "execution_count": 26,
   "id": "c9c88f1d-d4e0-497a-a466-d3872d74ee10",
   "metadata": {},
   "outputs": [],
   "source": [
    "A.update(B)"
   ]
  },
  {
   "cell_type": "code",
   "execution_count": 27,
   "id": "b5bece30-b787-48d3-80a8-a6c4d45ee8c5",
   "metadata": {},
   "outputs": [
    {
     "data": {
      "text/plain": [
       "{1, 2, 3, 4, 5, 6, 7, 8, 9}"
      ]
     },
     "execution_count": 27,
     "metadata": {},
     "output_type": "execute_result"
    }
   ],
   "source": [
    "A"
   ]
  },
  {
   "cell_type": "code",
   "execution_count": null,
   "id": "d69f06f1-ace9-4990-867d-5529333d8b58",
   "metadata": {},
   "outputs": [],
   "source": [
    "#Q.NO 5 What is a dictionary? Give an example. Also, state whether a dictionary is ordered or unordered."
   ]
  },
  {
   "cell_type": "code",
   "execution_count": null,
   "id": "c3809bda-cf76-4eed-953b-ecf1537aa84c",
   "metadata": {},
   "outputs": [],
   "source": [
    "# Dictionaries are used to store data values in key:value pairs. A dictionary is a collection which is ordered*, \n",
    "# changeable and do not allow duplicates. As of Python version 3.7, dictionaries are ordered. In Python 3.6 and earlier, dictionaries are unordered."
   ]
  },
  {
   "cell_type": "code",
   "execution_count": 28,
   "id": "326cd778-189b-4658-9e79-dfaa29ec1ac8",
   "metadata": {},
   "outputs": [],
   "source": [
    "# example\n",
    "dict1 = {'Sport': 'Cricket' , 'Teams': ['India', 'Australia', 'England', 'South Africa', 'Sri Lanka', 'New Zealand']}"
   ]
  },
  {
   "cell_type": "code",
   "execution_count": null,
   "id": "a9ce56bd-643c-431f-86a8-e084a5f8c719",
   "metadata": {},
   "outputs": [],
   "source": [
    "#A dictionary is a collection which is ordered*, \n",
    "#changeable and do not allow duplicates. As of Python version 3.7, dictionaries are ordered. In Python 3.6 and earlier, dictionaries are unordered."
   ]
  },
  {
   "cell_type": "code",
   "execution_count": null,
   "id": "d958594d-3739-4d83-94a3-55fb7f99a477",
   "metadata": {},
   "outputs": [],
   "source": [
    "# Q.NO. 6 Can we create a nested dictionary? If so, please give an example by creating a simple one-level nested dictionary."
   ]
  },
  {
   "cell_type": "code",
   "execution_count": 29,
   "id": "a3f7549d-7b4c-43df-a6d3-88b7ed08d59d",
   "metadata": {},
   "outputs": [],
   "source": [
    "#In Python, a nested dictionary is a dictionary inside a dictionary. It's a collection of dictionaries into one single dictionary.\n",
    "\n",
    "# hence we can easily create a nested dictionary in python \n"
   ]
  },
  {
   "cell_type": "code",
   "execution_count": 36,
   "id": "5b93e5de-bcb5-4ced-9b8e-58f613ac3a67",
   "metadata": {},
   "outputs": [],
   "source": [
    "dict1 = {'Sport': 'Cricket' , 'players ' : {'player 1 ': 'virat', 'player 2 ' : 'rohit', 'player 3 ' : 'dhoni'}}"
   ]
  },
  {
   "cell_type": "code",
   "execution_count": 37,
   "id": "92ce5593-da9c-4520-ac96-cf14c3d51313",
   "metadata": {},
   "outputs": [
    {
     "data": {
      "text/plain": [
       "{'Sport': 'Cricket',\n",
       " 'players ': {'player 1 ': 'virat',\n",
       "  'player 2 ': 'rohit',\n",
       "  'player 3 ': 'dhoni'}}"
      ]
     },
     "execution_count": 37,
     "metadata": {},
     "output_type": "execute_result"
    }
   ],
   "source": [
    "dict1"
   ]
  },
  {
   "cell_type": "code",
   "execution_count": null,
   "id": "11c5d00b-6d9a-4cea-9a9d-83cec8b478c1",
   "metadata": {},
   "outputs": [],
   "source": [
    "# Q7. Using setdefault() method, create key named topics in the given dictionary and also add the value of\n",
    "#the key as this list ['Python', 'Machine Learning’, 'Deep Learning']\n",
    "# = {'language' : 'Python', 'course': 'Data Science Masters'}"
   ]
  },
  {
   "cell_type": "code",
   "execution_count": 60,
   "id": "ca96fadd-7131-4670-9a34-7a680cc39c64",
   "metadata": {},
   "outputs": [
    {
     "name": "stdout",
     "output_type": "stream",
     "text": [
      "['Python', 'Machine Learning', 'Deep Learning']\n"
     ]
    }
   ],
   "source": [
    "dict1 = {'language' : 'Python', 'course': 'Data Science Masters'}\n",
    "\n",
    "x = dict1.setdefault(\"topics\", ['Python', 'Machine Learning', 'Deep Learning'])\n",
    "\n",
    "print(x)"
   ]
  },
  {
   "cell_type": "code",
   "execution_count": 62,
   "id": "069c3823-86cd-4ba2-a56d-4b8b76afc43f",
   "metadata": {},
   "outputs": [
    {
     "data": {
      "text/plain": [
       "{'language': 'Python',\n",
       " 'course': 'Data Science Masters',\n",
       " 'topics': ['Python', 'Machine Learning', 'Deep Learning']}"
      ]
     },
     "execution_count": 62,
     "metadata": {},
     "output_type": "execute_result"
    }
   ],
   "source": [
    "dict1"
   ]
  },
  {
   "cell_type": "code",
   "execution_count": null,
   "id": "598794c3-b426-4ea4-bdd6-176a7d3d6ffc",
   "metadata": {},
   "outputs": [],
   "source": [
    "#Q.NO.8 What are the three view objects in dictionaries?\n",
    "#Use the three in-built methods in python to displaythese three view objects for the given dictionary.\n"
   ]
  },
  {
   "cell_type": "code",
   "execution_count": 63,
   "id": "1538b23b-f29f-427c-a32b-2b9f670cd733",
   "metadata": {},
   "outputs": [],
   "source": [
    "#The main view objects of dictionary in python are keys, values and items.\n",
    "dict1 = {'Sport': 'Cricket' , 'Teams': ['India', 'Australia', 'England', 'South Africa', 'Sri Lanka', 'New Zealand']}"
   ]
  },
  {
   "cell_type": "code",
   "execution_count": 64,
   "id": "b028db3c-8137-4f06-9a04-5d9b9a3ee7fe",
   "metadata": {},
   "outputs": [
    {
     "data": {
      "text/plain": [
       "dict_keys(['Sport', 'Teams'])"
      ]
     },
     "execution_count": 64,
     "metadata": {},
     "output_type": "execute_result"
    }
   ],
   "source": [
    "dict1.keys()"
   ]
  },
  {
   "cell_type": "code",
   "execution_count": 65,
   "id": "517d3971-1779-44ae-a98d-4a59303c8201",
   "metadata": {},
   "outputs": [
    {
     "data": {
      "text/plain": [
       "dict_values(['Cricket', ['India', 'Australia', 'England', 'South Africa', 'Sri Lanka', 'New Zealand']])"
      ]
     },
     "execution_count": 65,
     "metadata": {},
     "output_type": "execute_result"
    }
   ],
   "source": [
    "dict1.values()"
   ]
  },
  {
   "cell_type": "code",
   "execution_count": 66,
   "id": "e98c1212-7483-400d-b095-370256c4b649",
   "metadata": {},
   "outputs": [
    {
     "data": {
      "text/plain": [
       "dict_items([('Sport', 'Cricket'), ('Teams', ['India', 'Australia', 'England', 'South Africa', 'Sri Lanka', 'New Zealand'])])"
      ]
     },
     "execution_count": 66,
     "metadata": {},
     "output_type": "execute_result"
    }
   ],
   "source": [
    "dict1.items()"
   ]
  },
  {
   "cell_type": "code",
   "execution_count": null,
   "id": "2907f460-229e-411f-ab9d-d78226547c49",
   "metadata": {},
   "outputs": [],
   "source": []
  },
  {
   "cell_type": "code",
   "execution_count": null,
   "id": "3f87dba9-ff0f-4ae9-90d8-3c32d208a1fa",
   "metadata": {},
   "outputs": [],
   "source": []
  }
 ],
 "metadata": {
  "kernelspec": {
   "display_name": "Python 3 (ipykernel)",
   "language": "python",
   "name": "python3"
  },
  "language_info": {
   "codemirror_mode": {
    "name": "ipython",
    "version": 3
   },
   "file_extension": ".py",
   "mimetype": "text/x-python",
   "name": "python",
   "nbconvert_exporter": "python",
   "pygments_lexer": "ipython3",
   "version": "3.10.8"
  }
 },
 "nbformat": 4,
 "nbformat_minor": 5
}
