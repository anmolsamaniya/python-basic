{
 "cells": [
  {
   "cell_type": "code",
   "execution_count": 1,
   "id": "6e3e9ae7-ff40-4a13-b33c-60a2a3d92624",
   "metadata": {},
   "outputs": [],
   "source": [
    "l=[1,2,3,4,5]"
   ]
  },
  {
   "cell_type": "code",
   "execution_count": 2,
   "id": "eb3a62f9-9ec7-41db-a8cd-7918712f41da",
   "metadata": {},
   "outputs": [
    {
     "data": {
      "text/plain": [
       "[1, 2, 3, 4, 5]"
      ]
     },
     "execution_count": 2,
     "metadata": {},
     "output_type": "execute_result"
    }
   ],
   "source": [
    "l"
   ]
  },
  {
   "cell_type": "code",
   "execution_count": 3,
   "id": "78b6b3e0-a396-45f7-b17a-b01a39fb9473",
   "metadata": {},
   "outputs": [
    {
     "name": "stdout",
     "output_type": "stream",
     "text": [
      "1\n",
      "2\n",
      "3\n",
      "4\n",
      "5\n"
     ]
    }
   ],
   "source": [
    "for i in l:\n",
    "    print (i)"
   ]
  },
  {
   "cell_type": "code",
   "execution_count": 4,
   "id": "34c2234f-23bf-42eb-954f-69f1948983be",
   "metadata": {},
   "outputs": [
    {
     "name": "stdout",
     "output_type": "stream",
     "text": [
      "1 <class 'int'>\n",
      "2 <class 'int'>\n",
      "3 <class 'int'>\n",
      "4 <class 'int'>\n",
      "5 <class 'int'>\n"
     ]
    }
   ],
   "source": [
    "for i in l:\n",
    "    print (i, type(i))"
   ]
  },
  {
   "cell_type": "code",
   "execution_count": 5,
   "id": "ac8697b0-45a3-426d-91b0-b1b1ab130fa1",
   "metadata": {},
   "outputs": [],
   "source": [
    "l1 = ['anmol', 'samaniya', 'kumar', 'krish']"
   ]
  },
  {
   "cell_type": "code",
   "execution_count": 6,
   "id": "eebd531f-6155-4754-bf77-ee04eb1259c4",
   "metadata": {},
   "outputs": [
    {
     "name": "stdout",
     "output_type": "stream",
     "text": [
      "anmol\n",
      "samaniya\n",
      "kumar\n",
      "krish\n",
      "if for loop is execute succesfully, completely then only else statement will execute\n"
     ]
    }
   ],
   "source": [
    "for i in l1:\n",
    "    print (i)\n",
    "else :\n",
    "    print ('if for loop is execute succesfully, completely then only else statement will execute')\n",
    "    "
   ]
  },
  {
   "cell_type": "code",
   "execution_count": 15,
   "id": "7e8c7676-09eb-40a4-ba81-10b54268f230",
   "metadata": {},
   "outputs": [
    {
     "name": "stdout",
     "output_type": "stream",
     "text": [
      "anmol\n"
     ]
    }
   ],
   "source": [
    "for i in l1:\n",
    "    if i== 'samaniya':\n",
    "        break\n",
    "    print (i)"
   ]
  },
  {
   "cell_type": "code",
   "execution_count": 16,
   "id": "89ce2c3b-1b5c-490a-a5c4-557221d56055",
   "metadata": {},
   "outputs": [
    {
     "name": "stdout",
     "output_type": "stream",
     "text": [
      "anmol\n"
     ]
    }
   ],
   "source": [
    "for i in l1:\n",
    "    if i== 'samaniya':\n",
    "        break\n",
    "    print (i)\n",
    "else :\n",
    "    print('execute this onliy if for loop is able to complete itself')"
   ]
  },
  {
   "cell_type": "code",
   "execution_count": 24,
   "id": "1d8780ca-1474-4f81-a7a2-7be874b38a8a",
   "metadata": {},
   "outputs": [
    {
     "name": "stdout",
     "output_type": "stream",
     "text": [
      "anmol\n",
      "kumar\n",
      "krish\n",
      "dumb\n"
     ]
    }
   ],
   "source": [
    "for i in l1:\n",
    "    if i== 'samaniya':\n",
    "        continue\n",
    "        print(2)\n",
    "    print (i)\n",
    "else :\n",
    "    print ('dumb')\n",
    "    "
   ]
  },
  {
   "cell_type": "code",
   "execution_count": 18,
   "id": "db9f1aaf-7fa5-40b1-95ad-cf53835c529c",
   "metadata": {},
   "outputs": [
    {
     "data": {
      "text/plain": [
       "['anmol', 'samaniya', 'kumar', 'krish']"
      ]
     },
     "execution_count": 18,
     "metadata": {},
     "output_type": "execute_result"
    }
   ],
   "source": [
    "l1"
   ]
  },
  {
   "cell_type": "code",
   "execution_count": 21,
   "id": "68eb14a3-1e5f-4a81-bba0-5dbb16fdc7b0",
   "metadata": {},
   "outputs": [
    {
     "data": {
      "text/plain": [
       "range(0, 5)"
      ]
     },
     "execution_count": 21,
     "metadata": {},
     "output_type": "execute_result"
    }
   ],
   "source": [
    "range(5)"
   ]
  },
  {
   "cell_type": "code",
   "execution_count": 22,
   "id": "e4d02247-ac57-4008-804b-2b0171748b10",
   "metadata": {},
   "outputs": [
    {
     "data": {
      "text/plain": [
       "[0, 1, 2, 3, 4]"
      ]
     },
     "execution_count": 22,
     "metadata": {},
     "output_type": "execute_result"
    }
   ],
   "source": [
    "list (range(5))"
   ]
  },
  {
   "cell_type": "code",
   "execution_count": 23,
   "id": "c7760ae8-9b5c-4f03-8533-82ed6997297c",
   "metadata": {},
   "outputs": [
    {
     "data": {
      "text/plain": [
       "[0, 1, 2, 3, 4, 5, 6, 7, 8, 9]"
      ]
     },
     "execution_count": 23,
     "metadata": {},
     "output_type": "execute_result"
    }
   ],
   "source": [
    "list (range(0,10,1))"
   ]
  },
  {
   "cell_type": "code",
   "execution_count": 27,
   "id": "03ec08a9-31bd-40e9-8e34-9680419cb78e",
   "metadata": {},
   "outputs": [
    {
     "data": {
      "text/plain": [
       "[0, 2, 4, 6, 8, 10, 12, 14, 16, 18]"
      ]
     },
     "execution_count": 27,
     "metadata": {},
     "output_type": "execute_result"
    }
   ],
   "source": [
    "list (range(0,20,2))"
   ]
  },
  {
   "cell_type": "code",
   "execution_count": 31,
   "id": "5692e4fc-b436-44e2-897a-e037310594f3",
   "metadata": {},
   "outputs": [
    {
     "data": {
      "text/plain": [
       "[-10, -7, -4, -1, 2, 5, 8, 11, 14, 17]"
      ]
     },
     "execution_count": 31,
     "metadata": {},
     "output_type": "execute_result"
    }
   ],
   "source": [
    "list(range(-10,20,3))"
   ]
  },
  {
   "cell_type": "code",
   "execution_count": 32,
   "id": "30f551ef-b894-4865-acd6-b603c0e78320",
   "metadata": {},
   "outputs": [
    {
     "data": {
      "text/plain": [
       "['anmol', 'samaniya', 'kumar', 'krish']"
      ]
     },
     "execution_count": 32,
     "metadata": {},
     "output_type": "execute_result"
    }
   ],
   "source": [
    "l1"
   ]
  },
  {
   "cell_type": "code",
   "execution_count": 33,
   "id": "3f465934-861c-4139-8178-2514f0072d2f",
   "metadata": {},
   "outputs": [
    {
     "data": {
      "text/plain": [
       "[0, 1, 2, 3]"
      ]
     },
     "execution_count": 33,
     "metadata": {},
     "output_type": "execute_result"
    }
   ],
   "source": [
    "list(range(len(l1)))"
   ]
  },
  {
   "cell_type": "code",
   "execution_count": 37,
   "id": "d1f273be-c049-415f-8a8e-5d495be24e33",
   "metadata": {},
   "outputs": [
    {
     "data": {
      "text/plain": [
       "[3, 2, 1]"
      ]
     },
     "execution_count": 37,
     "metadata": {},
     "output_type": "execute_result"
    }
   ],
   "source": [
    "list(range(len(l1)-1,0,-1))"
   ]
  },
  {
   "cell_type": "code",
   "execution_count": 38,
   "id": "e6c29afc-07e1-477c-ba3e-04a67cad4251",
   "metadata": {},
   "outputs": [
    {
     "data": {
      "text/plain": [
       "[3, 2, 1, 0]"
      ]
     },
     "execution_count": 38,
     "metadata": {},
     "output_type": "execute_result"
    }
   ],
   "source": [
    "list(range(len(l1)-1,-1,-1))"
   ]
  },
  {
   "cell_type": "code",
   "execution_count": 42,
   "id": "ba46d32c-4b85-4615-8ef8-29fe72538590",
   "metadata": {},
   "outputs": [
    {
     "name": "stdout",
     "output_type": "stream",
     "text": [
      "krish\n",
      "kumar\n",
      "samaniya\n",
      "anmol\n"
     ]
    }
   ],
   "source": [
    "for i in range(len(l1)-1,-1,-1):\n",
    "    print(l1[i])"
   ]
  },
  {
   "cell_type": "code",
   "execution_count": 43,
   "id": "7f2576f8-7058-473f-90e5-422f2b3c7025",
   "metadata": {},
   "outputs": [
    {
     "data": {
      "text/plain": [
       "['anmol', 'samaniya', 'kumar', 'krish']"
      ]
     },
     "execution_count": 43,
     "metadata": {},
     "output_type": "execute_result"
    }
   ],
   "source": [
    "l1"
   ]
  },
  {
   "cell_type": "code",
   "execution_count": 44,
   "id": "742985bb-64cb-495e-a85f-40af9e9c8743",
   "metadata": {},
   "outputs": [],
   "source": [
    "l2=[1,2,3,4,5,6,78,9,10]"
   ]
  },
  {
   "cell_type": "code",
   "execution_count": 46,
   "id": "09fec88b-7297-472f-a1c4-63f2f7f3bca6",
   "metadata": {},
   "outputs": [
    {
     "data": {
      "text/plain": [
       "[0, 1, 2, 3, 4, 5, 6, 7, 8]"
      ]
     },
     "execution_count": 46,
     "metadata": {},
     "output_type": "execute_result"
    }
   ],
   "source": [
    "list(range(len(l2)))"
   ]
  },
  {
   "cell_type": "code",
   "execution_count": 66,
   "id": "0ca52b3b-20bc-4b0d-8529-c753de9d07c5",
   "metadata": {},
   "outputs": [
    {
     "data": {
      "text/plain": [
       "[0, 2, 4, 6, 8]"
      ]
     },
     "execution_count": 66,
     "metadata": {},
     "output_type": "execute_result"
    }
   ],
   "source": [
    "list(range (0,len(l2),2))"
   ]
  },
  {
   "cell_type": "code",
   "execution_count": 67,
   "id": "e3f49738-1b21-4075-8a7c-7c94f0125d12",
   "metadata": {},
   "outputs": [
    {
     "name": "stdout",
     "output_type": "stream",
     "text": [
      "1\n",
      "3\n",
      "5\n",
      "78\n",
      "10\n"
     ]
    }
   ],
   "source": [
    "for i in range(0,len(l2),2):\n",
    "    print(l2[i])"
   ]
  },
  {
   "cell_type": "code",
   "execution_count": 68,
   "id": "898e4823-0591-4c36-8ab0-ae4871e0adcc",
   "metadata": {},
   "outputs": [],
   "source": [
    "l3=[1,2,3,4,5,6,78,9,10]"
   ]
  },
  {
   "cell_type": "code",
   "execution_count": 69,
   "id": "5fc01ee1-4c69-4405-a808-d6e7eab4314a",
   "metadata": {},
   "outputs": [
    {
     "data": {
      "text/plain": [
       "118"
      ]
     },
     "execution_count": 69,
     "metadata": {},
     "output_type": "execute_result"
    }
   ],
   "source": [
    "sum(l3)"
   ]
  },
  {
   "cell_type": "code",
   "execution_count": 71,
   "id": "50d6ab2a-843c-48f9-af7f-d689545a6ae6",
   "metadata": {},
   "outputs": [
    {
     "data": {
      "text/plain": [
       "118"
      ]
     },
     "execution_count": 71,
     "metadata": {},
     "output_type": "execute_result"
    }
   ],
   "source": [
    "result=0\n",
    "for i in l3:\n",
    "    result = result+i\n",
    "result"
   ]
  },
  {
   "cell_type": "code",
   "execution_count": 72,
   "id": "26311c7c-acd7-4f59-9238-61dd7111b3c9",
   "metadata": {},
   "outputs": [],
   "source": [
    "#first result=0\n",
    "#second result= 0+1\n",
    "#third result=1+2\n",
    "#fourth result=3+3 and so on "
   ]
  },
  {
   "cell_type": "code",
   "execution_count": 73,
   "id": "308e1ee6-f4d3-4ff2-b915-678e90f8b608",
   "metadata": {},
   "outputs": [
    {
     "data": {
      "text/plain": [
       "[1, 2, 3, 4, 5, 6, 78, 9, 10]"
      ]
     },
     "execution_count": 74,
     "metadata": {},
     "output_type": "execute_result"
    }
   ],
   "source": [
    "l3"
   ]
  },
  {
   "cell_type": "code",
   "execution_count": 75,
   "id": "e182f0be-9182-4deb-ad88-7fd9e45bf289",
   "metadata": {},
   "outputs": [],
   "source": [
    "t=(1,2,3,4,5,6,78,9,10)"
   ]
  },
  {
   "cell_type": "code",
   "execution_count": 76,
   "id": "b1581cc8-3a0d-4d11-b37b-03217e87d8bd",
   "metadata": {},
   "outputs": [
    {
     "data": {
      "text/plain": [
       "(1, 2, 3, 4, 5, 6, 78, 9, 10)"
      ]
     },
     "execution_count": 76,
     "metadata": {},
     "output_type": "execute_result"
    }
   ],
   "source": [
    "t"
   ]
  },
  {
   "cell_type": "code",
   "execution_count": 77,
   "id": "dde7d724-3f2e-420f-8910-896e53966fbf",
   "metadata": {},
   "outputs": [
    {
     "data": {
      "text/plain": [
       "118"
      ]
     },
     "execution_count": 77,
     "metadata": {},
     "output_type": "execute_result"
    }
   ],
   "source": [
    "result=0\n",
    "for i in t:\n",
    "    result = result+i\n",
    "result\n",
    "    "
   ]
  },
  {
   "cell_type": "code",
   "execution_count": 78,
   "id": "a01866d3-0234-4a1a-882b-b532e1882d9a",
   "metadata": {},
   "outputs": [],
   "source": [
    "s={1,2,3,4,5,6,78,9,10,'anmol','samaniya'}"
   ]
  },
  {
   "cell_type": "code",
   "execution_count": 79,
   "id": "ecc1e40c-221d-451c-a210-439daa588bcf",
   "metadata": {},
   "outputs": [
    {
     "name": "stdout",
     "output_type": "stream",
     "text": [
      "1\n",
      "2\n",
      "3\n",
      "4\n",
      "5\n",
      "6\n",
      "9\n",
      "10\n",
      "samaniya\n",
      "78\n",
      "anmol\n"
     ]
    }
   ],
   "source": [
    "for i in s:\n",
    "    print(i)"
   ]
  },
  {
   "cell_type": "code",
   "execution_count": 80,
   "id": "b3d25691-89b1-42d2-9118-cd7243fa0bb1",
   "metadata": {},
   "outputs": [],
   "source": [
    "s1='anmol'"
   ]
  },
  {
   "cell_type": "code",
   "execution_count": 81,
   "id": "88b57b67-099d-44fe-98ac-a643379d188b",
   "metadata": {},
   "outputs": [
    {
     "name": "stdout",
     "output_type": "stream",
     "text": [
      "a\n",
      "n\n",
      "m\n",
      "o\n",
      "l\n"
     ]
    }
   ],
   "source": [
    "for i in s1:\n",
    "    print(i)"
   ]
  },
  {
   "cell_type": "code",
   "execution_count": 82,
   "id": "485e5dac-bcf4-450c-9c60-82f6fe7846d8",
   "metadata": {},
   "outputs": [],
   "source": [
    "d={'name':'anmol', 'class' : 'data science', 'topic': ['python', 'ml','dl', 'stats', 'cv', 'nlp']}"
   ]
  },
  {
   "cell_type": "code",
   "execution_count": 97,
   "id": "46e27502-6d9a-4b1b-bc82-46ed8d886dfb",
   "metadata": {},
   "outputs": [
    {
     "data": {
      "text/plain": [
       "'anmol'"
      ]
     },
     "execution_count": 97,
     "metadata": {},
     "output_type": "execute_result"
    }
   ],
   "source": [
    "d['name']"
   ]
  },
  {
   "cell_type": "code",
   "execution_count": 84,
   "id": "59b1e7b2-423a-4b97-a11d-a3298ed7679a",
   "metadata": {},
   "outputs": [
    {
     "data": {
      "text/plain": [
       "dict_keys(['name', 'class', 'topic'])"
      ]
     },
     "execution_count": 84,
     "metadata": {},
     "output_type": "execute_result"
    }
   ],
   "source": [
    "d.keys()"
   ]
  },
  {
   "cell_type": "code",
   "execution_count": 100,
   "id": "25dbb4a6-0e49-40f7-802e-6335fcc7ea62",
   "metadata": {},
   "outputs": [
    {
     "name": "stdout",
     "output_type": "stream",
     "text": [
      "anmol\n",
      "data science\n",
      "['python', 'ml', 'dl', 'stats', 'cv', 'nlp']\n"
     ]
    }
   ],
   "source": [
    "for i in d.keys():\n",
    "    print(d[i])"
   ]
  },
  {
   "cell_type": "code",
   "execution_count": 91,
   "id": "fae27095-d67a-45c9-bcf6-376afaf88782",
   "metadata": {},
   "outputs": [
    {
     "data": {
      "text/plain": [
       "dict_values(['anmol', 'data science', ['python', 'ml', 'dl', 'stats', 'cv', 'nlp']])"
      ]
     },
     "execution_count": 91,
     "metadata": {},
     "output_type": "execute_result"
    }
   ],
   "source": [
    "d.values()"
   ]
  },
  {
   "cell_type": "code",
   "execution_count": 93,
   "id": "7c5e990e-36be-4979-bb32-1b2fa9520fe1",
   "metadata": {},
   "outputs": [
    {
     "name": "stdout",
     "output_type": "stream",
     "text": [
      "anmol\n",
      "data science\n",
      "['python', 'ml', 'dl', 'stats', 'cv', 'nlp']\n"
     ]
    }
   ],
   "source": [
    "for i in d.values():\n",
    "    print(i)"
   ]
  },
  {
   "cell_type": "code",
   "execution_count": 95,
   "id": "d98a601d-17ba-4ff2-a2b7-6c4c39f40983",
   "metadata": {},
   "outputs": [
    {
     "name": "stdout",
     "output_type": "stream",
     "text": [
      "('name', 'anmol')\n",
      "('class', 'data science')\n",
      "('topic', ['python', 'ml', 'dl', 'stats', 'cv', 'nlp'])\n"
     ]
    }
   ],
   "source": [
    "for i in d.items():\n",
    "    print(i)"
   ]
  },
  {
   "cell_type": "code",
   "execution_count": 102,
   "id": "070a98ab-7b14-4492-b742-b1f1811f78b6",
   "metadata": {},
   "outputs": [
    {
     "data": {
      "text/plain": [
       "True"
      ]
     },
     "execution_count": 102,
     "metadata": {},
     "output_type": "execute_result"
    }
   ],
   "source": [
    "\"pwskills\".upper().lower().isalnum()"
   ]
  },
  {
   "cell_type": "code",
   "execution_count": 103,
   "id": "176e4cac-78c9-4e79-9ab9-21529c7c0734",
   "metadata": {},
   "outputs": [
    {
     "data": {
      "text/plain": [
       "False"
      ]
     },
     "execution_count": 103,
     "metadata": {},
     "output_type": "execute_result"
    }
   ],
   "source": [
    "'pwskills'.upper().lower().isupper()"
   ]
  },
  {
   "cell_type": "code",
   "execution_count": null,
   "id": "14650b49-725e-49b6-9e6e-12fe0019e3c6",
   "metadata": {},
   "outputs": [],
   "source": []
  }
 ],
 "metadata": {
  "kernelspec": {
   "display_name": "Python 3 (ipykernel)",
   "language": "python",
   "name": "python3"
  },
  "language_info": {
   "codemirror_mode": {
    "name": "ipython",
    "version": 3
   },
   "file_extension": ".py",
   "mimetype": "text/x-python",
   "name": "python",
   "nbconvert_exporter": "python",
   "pygments_lexer": "ipython3",
   "version": "3.10.8"
  }
 },
 "nbformat": 4,
 "nbformat_minor": 5
}
