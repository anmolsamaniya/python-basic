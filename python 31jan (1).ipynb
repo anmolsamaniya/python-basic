{
 "cells": [
  {
   "cell_type": "code",
   "execution_count": 95,
   "id": "845deaa9-3662-44b5-bcce-35be64b72525",
   "metadata": {},
   "outputs": [],
   "source": [
    "# lists "
   ]
  },
  {
   "cell_type": "code",
   "execution_count": 8,
   "id": "d9791245-b5a0-4686-9a75-bd80502cab6d",
   "metadata": {},
   "outputs": [],
   "source": [
    "l = [1,52.3,'anmol',5+2j,True,345.258]"
   ]
  },
  {
   "cell_type": "code",
   "execution_count": 9,
   "id": "55ae66e3-579a-439c-95be-63c68857d6f0",
   "metadata": {},
   "outputs": [
    {
     "data": {
      "text/plain": [
       "list"
      ]
     },
     "execution_count": 9,
     "metadata": {},
     "output_type": "execute_result"
    }
   ],
   "source": [
    "type(l)"
   ]
  },
  {
   "cell_type": "code",
   "execution_count": 11,
   "id": "5328f424-c80b-4ff1-9a12-8f18684a34a9",
   "metadata": {},
   "outputs": [
    {
     "data": {
      "text/plain": [
       "1"
      ]
     },
     "execution_count": 11,
     "metadata": {},
     "output_type": "execute_result"
    }
   ],
   "source": [
    "l[0]"
   ]
  },
  {
   "cell_type": "code",
   "execution_count": 12,
   "id": "44b2129d-a9bf-4996-8ea8-0342ed3d134c",
   "metadata": {},
   "outputs": [
    {
     "data": {
      "text/plain": [
       "345.258"
      ]
     },
     "execution_count": 12,
     "metadata": {},
     "output_type": "execute_result"
    }
   ],
   "source": [
    "l[5]"
   ]
  },
  {
   "cell_type": "code",
   "execution_count": 13,
   "id": "d5c4a0a5-ccef-4551-b21e-542fab0bfa7f",
   "metadata": {},
   "outputs": [
    {
     "data": {
      "text/plain": [
       "[1, 52.3, 'anmol']"
      ]
     },
     "execution_count": 13,
     "metadata": {},
     "output_type": "execute_result"
    }
   ],
   "source": [
    "l[0:3]"
   ]
  },
  {
   "cell_type": "code",
   "execution_count": 14,
   "id": "9e105a49-ac32-4f0e-b359-569275f3486c",
   "metadata": {},
   "outputs": [
    {
     "data": {
      "text/plain": [
       "345.258"
      ]
     },
     "execution_count": 14,
     "metadata": {},
     "output_type": "execute_result"
    }
   ],
   "source": [
    "l[-1]"
   ]
  },
  {
   "cell_type": "code",
   "execution_count": 19,
   "id": "7d65f557-d456-4713-934d-0d24402165cd",
   "metadata": {},
   "outputs": [
    {
     "data": {
      "text/plain": [
       "[345.258, True, (5+2j), 'anmol', 52.3, 1]"
      ]
     },
     "execution_count": 19,
     "metadata": {},
     "output_type": "execute_result"
    }
   ],
   "source": [
    "l[::-1]"
   ]
  },
  {
   "cell_type": "code",
   "execution_count": 21,
   "id": "9c99685b-6e22-44c2-ab2a-1a172ff33e65",
   "metadata": {},
   "outputs": [
    {
     "data": {
      "text/plain": [
       "[1, 'anmol', True]"
      ]
     },
     "execution_count": 21,
     "metadata": {},
     "output_type": "execute_result"
    }
   ],
   "source": [
    "l[::2]"
   ]
  },
  {
   "cell_type": "code",
   "execution_count": 22,
   "id": "afb68467-e5e7-439a-a1a2-bc32d1d4b419",
   "metadata": {},
   "outputs": [
    {
     "data": {
      "text/plain": [
       "[1, 52.3, 'anmol', (5+2j), True, 345.258]"
      ]
     },
     "execution_count": 22,
     "metadata": {},
     "output_type": "execute_result"
    }
   ],
   "source": [
    "l"
   ]
  },
  {
   "cell_type": "code",
   "execution_count": 23,
   "id": "abd0bca9-ab55-4176-894f-2ca11ee7bcaa",
   "metadata": {},
   "outputs": [],
   "source": [
    "s=(\"pwskills\")"
   ]
  },
  {
   "cell_type": "code",
   "execution_count": 26,
   "id": "e434e2ff-cbf9-4c13-829d-7609d4a20ecd",
   "metadata": {},
   "outputs": [
    {
     "data": {
      "text/plain": [
       "['p', 'w', 's', 'k', 'i', 'l', 'l', 's']"
      ]
     },
     "execution_count": 26,
     "metadata": {},
     "output_type": "execute_result"
    }
   ],
   "source": [
    "list (s)"
   ]
  },
  {
   "cell_type": "code",
   "execution_count": 28,
   "id": "3f8a2c7c-c18a-43a1-a91d-c2b1ec516aec",
   "metadata": {},
   "outputs": [
    {
     "data": {
      "text/plain": [
       "['p',\n",
       " 'w',\n",
       " 's',\n",
       " 'k',\n",
       " 'i',\n",
       " 'l',\n",
       " 'l',\n",
       " 's',\n",
       " 1,\n",
       " 52.3,\n",
       " 'anmol',\n",
       " (5+2j),\n",
       " True,\n",
       " 345.258]"
      ]
     },
     "execution_count": 28,
     "metadata": {},
     "output_type": "execute_result"
    }
   ],
   "source": [
    "list (s)+l"
   ]
  },
  {
   "cell_type": "code",
   "execution_count": 29,
   "id": "4559abe6-e9c1-409c-8290-b87b25bc74ab",
   "metadata": {},
   "outputs": [
    {
     "data": {
      "text/plain": [
       "'pwskills'"
      ]
     },
     "execution_count": 29,
     "metadata": {},
     "output_type": "execute_result"
    }
   ],
   "source": [
    "s"
   ]
  },
  {
   "cell_type": "code",
   "execution_count": 31,
   "id": "f8d3ab37-7e64-4d99-84dc-5e6b060be70a",
   "metadata": {},
   "outputs": [
    {
     "data": {
      "text/plain": [
       "'anmol'"
      ]
     },
     "execution_count": 31,
     "metadata": {},
     "output_type": "execute_result"
    }
   ],
   "source": [
    "l[2]"
   ]
  },
  {
   "cell_type": "code",
   "execution_count": 32,
   "id": "4e166810-eea3-405b-87ad-187befde57ab",
   "metadata": {},
   "outputs": [
    {
     "data": {
      "text/plain": [
       "'an'"
      ]
     },
     "execution_count": 32,
     "metadata": {},
     "output_type": "execute_result"
    }
   ],
   "source": [
    "l[2][0:2]"
   ]
  },
  {
   "cell_type": "code",
   "execution_count": 33,
   "id": "439e9634-9b57-4a6b-9435-56c4029a9745",
   "metadata": {},
   "outputs": [
    {
     "data": {
      "text/plain": [
       "True"
      ]
     },
     "execution_count": 33,
     "metadata": {},
     "output_type": "execute_result"
    }
   ],
   "source": [
    "l[4]"
   ]
  },
  {
   "cell_type": "code",
   "execution_count": 34,
   "id": "15c29bba-21bc-4477-b96f-68fba7cda395",
   "metadata": {},
   "outputs": [
    {
     "data": {
      "text/plain": [
       "'True'"
      ]
     },
     "execution_count": 34,
     "metadata": {},
     "output_type": "execute_result"
    }
   ],
   "source": [
    "str(l[4])"
   ]
  },
  {
   "cell_type": "code",
   "execution_count": 35,
   "id": "4fe09087-200b-4697-9ced-5d2a2d057ab2",
   "metadata": {},
   "outputs": [
    {
     "data": {
      "text/plain": [
       "'Tru'"
      ]
     },
     "execution_count": 35,
     "metadata": {},
     "output_type": "execute_result"
    }
   ],
   "source": [
    "str(l[4])[0:3]"
   ]
  },
  {
   "cell_type": "code",
   "execution_count": 36,
   "id": "c8b760a6-c5f3-495c-8510-acdf1191beb5",
   "metadata": {},
   "outputs": [],
   "source": [
    "l1=[2,5,3]"
   ]
  },
  {
   "cell_type": "code",
   "execution_count": 37,
   "id": "3b86e88f-2485-4074-bef0-54451de4f0ec",
   "metadata": {},
   "outputs": [
    {
     "data": {
      "text/plain": [
       "[1, 52.3, 'anmol', (5+2j), True, 345.258, 2, 5, 3]"
      ]
     },
     "execution_count": 37,
     "metadata": {},
     "output_type": "execute_result"
    }
   ],
   "source": [
    "l+l1"
   ]
  },
  {
   "cell_type": "code",
   "execution_count": 38,
   "id": "fdbf02c1-969c-4c2e-8ef3-ef446b473a8c",
   "metadata": {},
   "outputs": [
    {
     "data": {
      "text/plain": [
       "[2, 5, 3, 2, 5, 3, 2, 5, 3]"
      ]
     },
     "execution_count": 38,
     "metadata": {},
     "output_type": "execute_result"
    }
   ],
   "source": [
    "l1*3"
   ]
  },
  {
   "cell_type": "code",
   "execution_count": 39,
   "id": "ed5fff12-00cf-4ef3-beac-607e32a10348",
   "metadata": {},
   "outputs": [
    {
     "data": {
      "text/plain": [
       "[1, 52.3, 'anmol', (5+2j), True, 345.258]"
      ]
     },
     "execution_count": 39,
     "metadata": {},
     "output_type": "execute_result"
    }
   ],
   "source": [
    "l"
   ]
  },
  {
   "cell_type": "code",
   "execution_count": 41,
   "id": "8a60cbbf-a2e7-4b5b-818a-917402be654d",
   "metadata": {},
   "outputs": [
    {
     "data": {
      "text/plain": [
       "6"
      ]
     },
     "execution_count": 41,
     "metadata": {},
     "output_type": "execute_result"
    }
   ],
   "source": [
    "len(l)"
   ]
  },
  {
   "cell_type": "code",
   "execution_count": 42,
   "id": "34cac570-0afb-4f84-82ca-271013f34fe9",
   "metadata": {},
   "outputs": [
    {
     "data": {
      "text/plain": [
       "[2, 5, 3]"
      ]
     },
     "execution_count": 42,
     "metadata": {},
     "output_type": "execute_result"
    }
   ],
   "source": [
    "l1"
   ]
  },
  {
   "cell_type": "code",
   "execution_count": 43,
   "id": "01b6d67c-9cf6-4113-a0e0-70137d5b52fd",
   "metadata": {},
   "outputs": [],
   "source": [
    "l1.append(5)"
   ]
  },
  {
   "cell_type": "code",
   "execution_count": 44,
   "id": "7520253c-f312-4588-b469-0bca5fd206ac",
   "metadata": {},
   "outputs": [
    {
     "data": {
      "text/plain": [
       "[2, 5, 3, 5]"
      ]
     },
     "execution_count": 44,
     "metadata": {},
     "output_type": "execute_result"
    }
   ],
   "source": [
    "l1"
   ]
  },
  {
   "cell_type": "code",
   "execution_count": 45,
   "id": "92e805f2-41f6-4f6b-9cc7-b764146ce49d",
   "metadata": {},
   "outputs": [
    {
     "data": {
      "text/plain": [
       "'pwskills'"
      ]
     },
     "execution_count": 45,
     "metadata": {},
     "output_type": "execute_result"
    }
   ],
   "source": [
    "s"
   ]
  },
  {
   "cell_type": "code",
   "execution_count": 46,
   "id": "8bac4a9e-ea06-4df6-89c7-87ce9778637a",
   "metadata": {},
   "outputs": [],
   "source": [
    "l.append(s)"
   ]
  },
  {
   "cell_type": "code",
   "execution_count": 47,
   "id": "216aed43-565a-46f1-a04e-4a193d5a4c65",
   "metadata": {},
   "outputs": [
    {
     "data": {
      "text/plain": [
       "[1, 52.3, 'anmol', (5+2j), True, 345.258, 'pwskills']"
      ]
     },
     "execution_count": 47,
     "metadata": {},
     "output_type": "execute_result"
    }
   ],
   "source": [
    "l"
   ]
  },
  {
   "cell_type": "code",
   "execution_count": 48,
   "id": "ab4180ec-6b46-44ce-8bac-ed9e8e190885",
   "metadata": {},
   "outputs": [],
   "source": [
    "l.append(l1)"
   ]
  },
  {
   "cell_type": "code",
   "execution_count": 49,
   "id": "db130bf1-cb95-4a24-a747-4d04bea7a188",
   "metadata": {},
   "outputs": [
    {
     "data": {
      "text/plain": [
       "[1, 52.3, 'anmol', (5+2j), True, 345.258, 'pwskills', [2, 5, 3, 5]]"
      ]
     },
     "execution_count": 49,
     "metadata": {},
     "output_type": "execute_result"
    }
   ],
   "source": [
    "l"
   ]
  },
  {
   "cell_type": "code",
   "execution_count": 50,
   "id": "319e946b-d834-4b00-a1b3-e4f0e39631d7",
   "metadata": {},
   "outputs": [
    {
     "data": {
      "text/plain": [
       "5"
      ]
     },
     "execution_count": 50,
     "metadata": {},
     "output_type": "execute_result"
    }
   ],
   "source": [
    "l[-1][1]"
   ]
  },
  {
   "cell_type": "code",
   "execution_count": 51,
   "id": "538e2919-70da-48e8-bdaf-b8e855884108",
   "metadata": {},
   "outputs": [
    {
     "data": {
      "text/plain": [
       "[1, 52.3, 'anmol', (5+2j), True, 345.258, 'pwskills', [2, 5, 3, 5]]"
      ]
     },
     "execution_count": 51,
     "metadata": {},
     "output_type": "execute_result"
    }
   ],
   "source": [
    "l"
   ]
  },
  {
   "cell_type": "code",
   "execution_count": 52,
   "id": "516e5e22-9722-4f3d-9109-77c964d6a17b",
   "metadata": {},
   "outputs": [
    {
     "ename": "TypeError",
     "evalue": "'int' object is not iterable",
     "output_type": "error",
     "traceback": [
      "\u001b[0;31m---------------------------------------------------------------------------\u001b[0m",
      "\u001b[0;31mTypeError\u001b[0m                                 Traceback (most recent call last)",
      "Cell \u001b[0;32mIn[52], line 1\u001b[0m\n\u001b[0;32m----> 1\u001b[0m \u001b[43ml\u001b[49m\u001b[38;5;241;43m.\u001b[39;49m\u001b[43mextend\u001b[49m\u001b[43m(\u001b[49m\u001b[38;5;241;43m10\u001b[39;49m\u001b[43m)\u001b[49m\n",
      "\u001b[0;31mTypeError\u001b[0m: 'int' object is not iterable"
     ]
    }
   ],
   "source": [
    "l.extend(10)"
   ]
  },
  {
   "cell_type": "code",
   "execution_count": 53,
   "id": "3aefce46-5c7d-4b1b-b005-cfb8335e8686",
   "metadata": {},
   "outputs": [],
   "source": [
    "l.extend('butterfly')"
   ]
  },
  {
   "cell_type": "code",
   "execution_count": 54,
   "id": "a605b773-1206-4788-a769-f7cf91aa5e2f",
   "metadata": {},
   "outputs": [
    {
     "data": {
      "text/plain": [
       "[1,\n",
       " 52.3,\n",
       " 'anmol',\n",
       " (5+2j),\n",
       " True,\n",
       " 345.258,\n",
       " 'pwskills',\n",
       " [2, 5, 3, 5],\n",
       " 'b',\n",
       " 'u',\n",
       " 't',\n",
       " 't',\n",
       " 'e',\n",
       " 'r',\n",
       " 'f',\n",
       " 'l',\n",
       " 'y']"
      ]
     },
     "execution_count": 54,
     "metadata": {},
     "output_type": "execute_result"
    }
   ],
   "source": [
    "l"
   ]
  },
  {
   "cell_type": "code",
   "execution_count": 55,
   "id": "ea4822c8-9875-4c78-a8c9-ac80e445a82b",
   "metadata": {},
   "outputs": [],
   "source": [
    "l.extend([2,3,5])"
   ]
  },
  {
   "cell_type": "code",
   "execution_count": 56,
   "id": "38a159a2-e5a9-4a54-a1c5-902a7cdbef29",
   "metadata": {},
   "outputs": [
    {
     "data": {
      "text/plain": [
       "[1,\n",
       " 52.3,\n",
       " 'anmol',\n",
       " (5+2j),\n",
       " True,\n",
       " 345.258,\n",
       " 'pwskills',\n",
       " [2, 5, 3, 5],\n",
       " 'b',\n",
       " 'u',\n",
       " 't',\n",
       " 't',\n",
       " 'e',\n",
       " 'r',\n",
       " 'f',\n",
       " 'l',\n",
       " 'y',\n",
       " 2,\n",
       " 3,\n",
       " 5]"
      ]
     },
     "execution_count": 56,
     "metadata": {},
     "output_type": "execute_result"
    }
   ],
   "source": [
    "l"
   ]
  },
  {
   "cell_type": "code",
   "execution_count": 58,
   "id": "1a6a99ae-5642-4c33-83eb-d838d2994068",
   "metadata": {},
   "outputs": [
    {
     "data": {
      "text/plain": [
       "[2, 5, 3, 5]"
      ]
     },
     "execution_count": 58,
     "metadata": {},
     "output_type": "execute_result"
    }
   ],
   "source": [
    "l1"
   ]
  },
  {
   "cell_type": "code",
   "execution_count": 59,
   "id": "53153476-f9ed-40d6-a544-b399e7f45ab7",
   "metadata": {},
   "outputs": [],
   "source": [
    "l1.insert(1,'anmol')"
   ]
  },
  {
   "cell_type": "code",
   "execution_count": 60,
   "id": "034fb006-31f4-4172-8690-b06eb5afdcb3",
   "metadata": {},
   "outputs": [
    {
     "data": {
      "text/plain": [
       "[2, 'anmol', 5, 3, 5]"
      ]
     },
     "execution_count": 60,
     "metadata": {},
     "output_type": "execute_result"
    }
   ],
   "source": [
    "l1"
   ]
  },
  {
   "cell_type": "code",
   "execution_count": 66,
   "id": "cf3660f1-a1d9-4805-a147-e91b692dd0b1",
   "metadata": {},
   "outputs": [],
   "source": [
    "l1.insert(1,[2,3,5])"
   ]
  },
  {
   "cell_type": "code",
   "execution_count": 68,
   "id": "8aaa9d5a-059f-45e5-aa6b-9253dc88c095",
   "metadata": {},
   "outputs": [
    {
     "data": {
      "text/plain": [
       "[2, [2, 3, 5], 'anmol', [2, 3, 5], [2, 3, 5], 5, 3, 5]"
      ]
     },
     "execution_count": 68,
     "metadata": {},
     "output_type": "execute_result"
    }
   ],
   "source": [
    "l1"
   ]
  },
  {
   "cell_type": "code",
   "execution_count": 69,
   "id": "c7eb3d7b-0bfe-48da-8ec2-9c05325767d6",
   "metadata": {},
   "outputs": [],
   "source": [
    "l1.insert(-1,\n",
    "          45)"
   ]
  },
  {
   "cell_type": "code",
   "execution_count": 70,
   "id": "8be8d5e8-4e23-4058-a7de-ad022aa5027e",
   "metadata": {},
   "outputs": [
    {
     "data": {
      "text/plain": [
       "[2, [2, 3, 5], 'anmol', [2, 3, 5], [2, 3, 5], 5, 3, 45, 5]"
      ]
     },
     "execution_count": 70,
     "metadata": {},
     "output_type": "execute_result"
    }
   ],
   "source": [
    "l1"
   ]
  },
  {
   "cell_type": "code",
   "execution_count": 71,
   "id": "ca8009b4-8fb6-4c80-ac16-23c4a970e18f",
   "metadata": {},
   "outputs": [],
   "source": [
    "# insert function has added to lists in the second last position code isn't visible \n",
    "#-1,45 vali query mai sahi hua hai isne bas apni jaagah acquire karke baaki puri list one \n",
    "# step backward shift kardi hai. for eg -1 ko shoift kiya toh -2 ne space acuire kar liya "
   ]
  },
  {
   "cell_type": "code",
   "execution_count": 72,
   "id": "8c333cc5-a7d8-4197-82ff-2ee63c4ab20c",
   "metadata": {},
   "outputs": [],
   "source": [
    "l1.insert(0,3)"
   ]
  },
  {
   "cell_type": "code",
   "execution_count": 73,
   "id": "722e12de-cc50-4d50-8ec2-d53221b786c5",
   "metadata": {},
   "outputs": [
    {
     "data": {
      "text/plain": [
       "[3, 2, [2, 3, 5], 'anmol', [2, 3, 5], [2, 3, 5], 5, 3, 45, 5]"
      ]
     },
     "execution_count": 73,
     "metadata": {},
     "output_type": "execute_result"
    }
   ],
   "source": [
    "l1"
   ]
  },
  {
   "cell_type": "code",
   "execution_count": 74,
   "id": "5c20bfb1-3aed-4322-9548-2d6cf7469ae8",
   "metadata": {},
   "outputs": [
    {
     "data": {
      "text/plain": [
       "[3, 2, [2, 3, 5], 'anmol', [2, 3, 5], [2, 3, 5], 5, 3, 45, 5]"
      ]
     },
     "execution_count": 74,
     "metadata": {},
     "output_type": "execute_result"
    }
   ],
   "source": [
    "l1"
   ]
  },
  {
   "cell_type": "code",
   "execution_count": 75,
   "id": "96cc7217-d76c-4343-94c2-0d3e3f142773",
   "metadata": {},
   "outputs": [
    {
     "data": {
      "text/plain": [
       "5"
      ]
     },
     "execution_count": 75,
     "metadata": {},
     "output_type": "execute_result"
    }
   ],
   "source": [
    "l1.pop()"
   ]
  },
  {
   "cell_type": "code",
   "execution_count": 76,
   "id": "a4656681-f830-444d-9591-0d34a1223da0",
   "metadata": {},
   "outputs": [
    {
     "data": {
      "text/plain": [
       "[3, 2, [2, 3, 5], 'anmol', [2, 3, 5], [2, 3, 5], 5, 3, 45]"
      ]
     },
     "execution_count": 76,
     "metadata": {},
     "output_type": "execute_result"
    }
   ],
   "source": [
    "l1"
   ]
  },
  {
   "cell_type": "code",
   "execution_count": 77,
   "id": "98940cc9-c946-4a60-bd62-e26eabdb280f",
   "metadata": {},
   "outputs": [
    {
     "data": {
      "text/plain": [
       "45"
      ]
     },
     "execution_count": 77,
     "metadata": {},
     "output_type": "execute_result"
    }
   ],
   "source": [
    "l1.pop()"
   ]
  },
  {
   "cell_type": "code",
   "execution_count": 78,
   "id": "3c0d6e7a-a560-439e-aedd-a7c1f2dfc9df",
   "metadata": {},
   "outputs": [
    {
     "data": {
      "text/plain": [
       "[3, 2, [2, 3, 5], 'anmol', [2, 3, 5], [2, 3, 5], 5, 3]"
      ]
     },
     "execution_count": 78,
     "metadata": {},
     "output_type": "execute_result"
    }
   ],
   "source": [
    "l1"
   ]
  },
  {
   "cell_type": "code",
   "execution_count": 79,
   "id": "7ae8c3d0-813b-477b-b251-85467fd18ced",
   "metadata": {},
   "outputs": [
    {
     "data": {
      "text/plain": [
       "'anmol'"
      ]
     },
     "execution_count": 79,
     "metadata": {},
     "output_type": "execute_result"
    }
   ],
   "source": [
    "l1.pop(3)"
   ]
  },
  {
   "cell_type": "code",
   "execution_count": 80,
   "id": "ce3f5776-151e-49b6-8e95-a395691e81bd",
   "metadata": {},
   "outputs": [
    {
     "data": {
      "text/plain": [
       "[3, 2, [2, 3, 5], [2, 3, 5], [2, 3, 5], 5, 3]"
      ]
     },
     "execution_count": 80,
     "metadata": {},
     "output_type": "execute_result"
    }
   ],
   "source": [
    "l1"
   ]
  },
  {
   "cell_type": "code",
   "execution_count": 81,
   "id": "a85d41c4-a1a3-456d-8eef-33681d3615a9",
   "metadata": {},
   "outputs": [
    {
     "data": {
      "text/plain": [
       "[3, 2, [2, 3, 5], [2, 3, 5], [2, 3, 5], 5, 3]"
      ]
     },
     "execution_count": 81,
     "metadata": {},
     "output_type": "execute_result"
    }
   ],
   "source": [
    "l1"
   ]
  },
  {
   "cell_type": "code",
   "execution_count": 83,
   "id": "55a65041-2c46-492b-8c23-9257b2407619",
   "metadata": {},
   "outputs": [],
   "source": [
    "l1.remove(2)"
   ]
  },
  {
   "cell_type": "code",
   "execution_count": 84,
   "id": "93d83d29-27c7-4079-a9e9-e588dc1b0679",
   "metadata": {},
   "outputs": [
    {
     "data": {
      "text/plain": [
       "[3, [2, 3, 5], [2, 3, 5], [2, 3, 5], 5, 3]"
      ]
     },
     "execution_count": 84,
     "metadata": {},
     "output_type": "execute_result"
    }
   ],
   "source": [
    "l1"
   ]
  },
  {
   "cell_type": "code",
   "execution_count": 85,
   "id": "48865780-8dd6-46be-a11e-627b69940a3b",
   "metadata": {},
   "outputs": [],
   "source": [
    "l1.remove(3)"
   ]
  },
  {
   "cell_type": "code",
   "execution_count": 86,
   "id": "c6c9031f-45a3-49aa-b6e0-70a0aad81ed0",
   "metadata": {},
   "outputs": [
    {
     "data": {
      "text/plain": [
       "[[2, 3, 5], [2, 3, 5], [2, 3, 5], 5, 3]"
      ]
     },
     "execution_count": 86,
     "metadata": {},
     "output_type": "execute_result"
    }
   ],
   "source": [
    "l1"
   ]
  },
  {
   "cell_type": "code",
   "execution_count": 87,
   "id": "c04991d8-b0c3-4712-96c4-4b97a59f6f6d",
   "metadata": {},
   "outputs": [],
   "source": [
    "l1[0].remove(3)"
   ]
  },
  {
   "cell_type": "code",
   "execution_count": 88,
   "id": "b7fc9067-c7a0-4b6e-8917-9de6127d1f28",
   "metadata": {},
   "outputs": [
    {
     "data": {
      "text/plain": [
       "[[2, 5], [2, 3, 5], [2, 3, 5], 5, 3]"
      ]
     },
     "execution_count": 88,
     "metadata": {},
     "output_type": "execute_result"
    }
   ],
   "source": [
    "l1"
   ]
  },
  {
   "cell_type": "code",
   "execution_count": 89,
   "id": "c3292d08-dd4d-452d-b8b0-9f24bff3f22c",
   "metadata": {},
   "outputs": [],
   "source": [
    "l1.append(\"anmol\")"
   ]
  },
  {
   "cell_type": "code",
   "execution_count": 90,
   "id": "c41a6e0d-2e00-41b5-82ac-77e0250206fa",
   "metadata": {},
   "outputs": [
    {
     "data": {
      "text/plain": [
       "[[2, 5], [2, 3, 5], [2, 3, 5], 5, 3, 'anmol']"
      ]
     },
     "execution_count": 90,
     "metadata": {},
     "output_type": "execute_result"
    }
   ],
   "source": [
    "l1"
   ]
  },
  {
   "cell_type": "code",
   "execution_count": 94,
   "id": "58db7a50-ca5b-4fec-a510-99643c647f42",
   "metadata": {},
   "outputs": [],
   "source": [
    "l1.remove('anmol')"
   ]
  },
  {
   "cell_type": "code",
   "execution_count": 96,
   "id": "e4a5952a-4d5b-4eee-8cb2-9186299710d1",
   "metadata": {},
   "outputs": [
    {
     "data": {
      "text/plain": [
       "[[2, 5], [2, 3, 5], [2, 3, 5], 5, 3]"
      ]
     },
     "execution_count": 96,
     "metadata": {},
     "output_type": "execute_result"
    }
   ],
   "source": [
    "l1"
   ]
  },
  {
   "cell_type": "code",
   "execution_count": 97,
   "id": "9c6b286e-47d1-4dbf-9157-ff4e596c56a7",
   "metadata": {},
   "outputs": [
    {
     "data": {
      "text/plain": [
       "[1,\n",
       " 52.3,\n",
       " 'anmol',\n",
       " (5+2j),\n",
       " True,\n",
       " 345.258,\n",
       " 'pwskills',\n",
       " [[2, 5], [2, 3, 5], [2, 3, 5], 5, 3],\n",
       " 'b',\n",
       " 'u',\n",
       " 't',\n",
       " 't',\n",
       " 'e',\n",
       " 'r',\n",
       " 'f',\n",
       " 'l',\n",
       " 'y',\n",
       " 2,\n",
       " 3,\n",
       " 5]"
      ]
     },
     "execution_count": 97,
     "metadata": {},
     "output_type": "execute_result"
    }
   ],
   "source": [
    "l"
   ]
  },
  {
   "cell_type": "code",
   "execution_count": 98,
   "id": "190d10de-8509-40ca-8241-57192233f09a",
   "metadata": {},
   "outputs": [
    {
     "data": {
      "text/plain": [
       "[[2, 5], [2, 3, 5], [2, 3, 5], 5, 3]"
      ]
     },
     "execution_count": 98,
     "metadata": {},
     "output_type": "execute_result"
    }
   ],
   "source": [
    "l1"
   ]
  },
  {
   "cell_type": "code",
   "execution_count": 100,
   "id": "26585907-c19a-4d6a-931a-decbf297ae6d",
   "metadata": {},
   "outputs": [
    {
     "data": {
      "text/plain": [
       "[3, 5, [2, 3, 5], [2, 3, 5], [2, 5]]"
      ]
     },
     "execution_count": 100,
     "metadata": {},
     "output_type": "execute_result"
    }
   ],
   "source": [
    "l1 [::-1]"
   ]
  },
  {
   "cell_type": "code",
   "execution_count": 147,
   "id": "4376b321-a2df-4714-a1f1-528c048f0a32",
   "metadata": {},
   "outputs": [],
   "source": [
    "l1"
   ]
  },
  {
   "cell_type": "code",
   "execution_count": null,
   "id": "415987f7-361b-4639-ab0b-72bf0de94325",
   "metadata": {},
   "outputs": [],
   "source": [
    "l1"
   ]
  },
  {
   "cell_type": "code",
   "execution_count": 141,
   "id": "58cbda8b-2e5e-4595-82ba-447ea7566b1c",
   "metadata": {},
   "outputs": [],
   "source": [
    "l2=[2,5,66,7,8,45]"
   ]
  },
  {
   "cell_type": "code",
   "execution_count": 132,
   "id": "24e48dcd-9028-4aad-8924-27548cd3e55f",
   "metadata": {},
   "outputs": [],
   "source": [
    "l2.reverse()"
   ]
  },
  {
   "cell_type": "code",
   "execution_count": 133,
   "id": "0cfeb1e2-5614-481c-b632-f9bfa55147de",
   "metadata": {},
   "outputs": [
    {
     "data": {
      "text/plain": [
       "[45, 8, 7, 66, 5, 2]"
      ]
     },
     "execution_count": 133,
     "metadata": {},
     "output_type": "execute_result"
    }
   ],
   "source": [
    "l2"
   ]
  },
  {
   "cell_type": "code",
   "execution_count": 134,
   "id": "c6dc5724-20cb-46f8-9bd0-0de12a7d4776",
   "metadata": {},
   "outputs": [],
   "source": [
    "l2.sort()"
   ]
  },
  {
   "cell_type": "code",
   "execution_count": 135,
   "id": "36e75574-0e6b-4a19-a28d-a557c1b7b26f",
   "metadata": {},
   "outputs": [
    {
     "data": {
      "text/plain": [
       "[2, 5, 7, 8, 45, 66]"
      ]
     },
     "execution_count": 135,
     "metadata": {},
     "output_type": "execute_result"
    }
   ],
   "source": [
    "l2"
   ]
  },
  {
   "cell_type": "code",
   "execution_count": 149,
   "id": "17261029-67f2-48e8-a805-ee969ba613dc",
   "metadata": {},
   "outputs": [],
   "source": [
    "l2.reverse()"
   ]
  },
  {
   "cell_type": "code",
   "execution_count": 150,
   "id": "08705628-450d-443d-9955-55f59e884d0c",
   "metadata": {},
   "outputs": [
    {
     "data": {
      "text/plain": [
       "[45, 8, 7, 66, 5, 2]"
      ]
     },
     "execution_count": 150,
     "metadata": {},
     "output_type": "execute_result"
    }
   ],
   "source": [
    "l2"
   ]
  },
  {
   "cell_type": "code",
   "execution_count": 4,
   "id": "b86ab53d-2db4-4508-954f-c73938a4440a",
   "metadata": {},
   "outputs": [],
   "source": [
    "l2= [45,8,7,66,5,2]"
   ]
  },
  {
   "cell_type": "code",
   "execution_count": 5,
   "id": "287225b3-5858-4289-ba91-36dcc7f63b40",
   "metadata": {},
   "outputs": [
    {
     "data": {
      "text/plain": [
       "[45, 8, 7, 66, 5, 2]"
      ]
     },
     "execution_count": 5,
     "metadata": {},
     "output_type": "execute_result"
    }
   ],
   "source": [
    "l2"
   ]
  },
  {
   "cell_type": "code",
   "execution_count": 6,
   "id": "d80f5825-f4ec-4fa3-ae73-e31891fdd64c",
   "metadata": {},
   "outputs": [],
   "source": [
    "l2.sort()"
   ]
  },
  {
   "cell_type": "code",
   "execution_count": 7,
   "id": "07abd4f2-6595-4099-baaf-fa39979eb368",
   "metadata": {},
   "outputs": [
    {
     "data": {
      "text/plain": [
       "[2, 5, 7, 8, 45, 66]"
      ]
     },
     "execution_count": 7,
     "metadata": {},
     "output_type": "execute_result"
    }
   ],
   "source": [
    "l2"
   ]
  },
  {
   "cell_type": "code",
   "execution_count": 8,
   "id": "37b1f3e8-e1c2-4b6e-b21b-9aeb3c29d4a1",
   "metadata": {},
   "outputs": [],
   "source": [
    "l3=['anmol','samaniya','radhey']"
   ]
  },
  {
   "cell_type": "code",
   "execution_count": 9,
   "id": "2dc84330-6ede-4550-9cb8-1c225abe8117",
   "metadata": {},
   "outputs": [],
   "source": [
    "l3.sort()"
   ]
  },
  {
   "cell_type": "code",
   "execution_count": 10,
   "id": "c552a3e9-baf8-48ca-b027-a6db11e39ef3",
   "metadata": {},
   "outputs": [
    {
     "data": {
      "text/plain": [
       "['anmol', 'radhey', 'samaniya']"
      ]
     },
     "execution_count": 10,
     "metadata": {},
     "output_type": "execute_result"
    }
   ],
   "source": [
    "l3"
   ]
  },
  {
   "cell_type": "code",
   "execution_count": 11,
   "id": "d14ccb6f-898a-41db-9b4d-ae591f12bdce",
   "metadata": {},
   "outputs": [],
   "source": [
    "l3.sort(reverse= True)"
   ]
  },
  {
   "cell_type": "code",
   "execution_count": 12,
   "id": "a6f7f062-57e8-4ac4-9b13-b6cb99b6e260",
   "metadata": {},
   "outputs": [
    {
     "data": {
      "text/plain": [
       "['samaniya', 'radhey', 'anmol']"
      ]
     },
     "execution_count": 12,
     "metadata": {},
     "output_type": "execute_result"
    }
   ],
   "source": [
    "l3"
   ]
  },
  {
   "cell_type": "code",
   "execution_count": 13,
   "id": "be2671e1-83bd-4b54-8eb9-cd3959a76988",
   "metadata": {},
   "outputs": [
    {
     "data": {
      "text/plain": [
       "1"
      ]
     },
     "execution_count": 13,
     "metadata": {},
     "output_type": "execute_result"
    }
   ],
   "source": [
    "l3.index('radhey')"
   ]
  },
  {
   "cell_type": "code",
   "execution_count": 14,
   "id": "43c9092c-dbe8-4698-81a4-6b1ab733c0b4",
   "metadata": {},
   "outputs": [
    {
     "data": {
      "text/plain": [
       "1"
      ]
     },
     "execution_count": 14,
     "metadata": {},
     "output_type": "execute_result"
    }
   ],
   "source": [
    "l3.count('anmol')"
   ]
  },
  {
   "cell_type": "code",
   "execution_count": 15,
   "id": "f1805a3e-c204-4e80-895e-691c01e60aeb",
   "metadata": {},
   "outputs": [],
   "source": [
    "# count tell the no. of times function is written oin the list"
   ]
  },
  {
   "cell_type": "code",
   "execution_count": 16,
   "id": "966121e0-f320-4578-957d-178a586f01ec",
   "metadata": {},
   "outputs": [],
   "source": [
    "s='anmol'"
   ]
  },
  {
   "cell_type": "code",
   "execution_count": 17,
   "id": "bbf50e3e-c749-4f3d-ad51-0bdb2cc7e6de",
   "metadata": {},
   "outputs": [
    {
     "data": {
      "text/plain": [
       "['samaniya', 'radhey', 'anmol']"
      ]
     },
     "execution_count": 17,
     "metadata": {},
     "output_type": "execute_result"
    }
   ],
   "source": [
    "l3"
   ]
  },
  {
   "cell_type": "code",
   "execution_count": 18,
   "id": "4c668f13-440e-4758-9856-0c6868f5b347",
   "metadata": {},
   "outputs": [
    {
     "data": {
      "text/plain": [
       "'a'"
      ]
     },
     "execution_count": 18,
     "metadata": {},
     "output_type": "execute_result"
    }
   ],
   "source": [
    "s[0]"
   ]
  },
  {
   "cell_type": "code",
   "execution_count": 19,
   "id": "6a73464a-debc-4c42-a9eb-1899f2aabc3a",
   "metadata": {},
   "outputs": [
    {
     "ename": "TypeError",
     "evalue": "'str' object does not support item assignment",
     "output_type": "error",
     "traceback": [
      "\u001b[0;31m---------------------------------------------------------------------------\u001b[0m",
      "\u001b[0;31mTypeError\u001b[0m                                 Traceback (most recent call last)",
      "Cell \u001b[0;32mIn[19], line 1\u001b[0m\n\u001b[0;32m----> 1\u001b[0m \u001b[43ms\u001b[49m\u001b[43m[\u001b[49m\u001b[38;5;241;43m0\u001b[39;49m\u001b[43m]\u001b[49m\u001b[38;5;241m=\u001b[39m \u001b[38;5;124m'\u001b[39m\u001b[38;5;124mn\u001b[39m\u001b[38;5;124m'\u001b[39m\n",
      "\u001b[0;31mTypeError\u001b[0m: 'str' object does not support item assignment"
     ]
    }
   ],
   "source": [
    "s[0]= 'n'"
   ]
  },
  {
   "cell_type": "code",
   "execution_count": 20,
   "id": "18b1988a-69bb-4d32-9cdf-e748eea83375",
   "metadata": {},
   "outputs": [],
   "source": [
    "l3[0]= 'rapid'"
   ]
  },
  {
   "cell_type": "code",
   "execution_count": 21,
   "id": "6df0ecb0-794e-4b6b-b4a0-543f06ad36a3",
   "metadata": {},
   "outputs": [
    {
     "data": {
      "text/plain": [
       "['rapid', 'radhey', 'anmol']"
      ]
     },
     "execution_count": 21,
     "metadata": {},
     "output_type": "execute_result"
    }
   ],
   "source": [
    "l3"
   ]
  },
  {
   "cell_type": "code",
   "execution_count": 22,
   "id": "5f151dc3-6893-4f7c-b076-92bd7aba3f2c",
   "metadata": {},
   "outputs": [],
   "source": [
    "# string doesn't support item assign/ element ko change karna list m possible hai\n",
    "\n",
    "#string mai possible nahi hai"
   ]
  },
  {
   "cell_type": "code",
   "execution_count": 23,
   "id": "59682e30-ba7d-455e-afb1-b99d51809e56",
   "metadata": {},
   "outputs": [
    {
     "data": {
      "text/plain": [
       "'snmol'"
      ]
     },
     "execution_count": 23,
     "metadata": {},
     "output_type": "execute_result"
    }
   ],
   "source": [
    "s.replace('a','s')"
   ]
  },
  {
   "cell_type": "code",
   "execution_count": 24,
   "id": "8c41fd15-b676-4abf-89ad-2b45ed038192",
   "metadata": {},
   "outputs": [
    {
     "data": {
      "text/plain": [
       "'anmol'"
      ]
     },
     "execution_count": 24,
     "metadata": {},
     "output_type": "execute_result"
    }
   ],
   "source": [
    "s"
   ]
  },
  {
   "cell_type": "code",
   "execution_count": 25,
   "id": "cd4198ed-84a6-46d4-a2bb-f3acfd13e5d6",
   "metadata": {},
   "outputs": [],
   "source": [
    "#tuples "
   ]
  },
  {
   "cell_type": "code",
   "execution_count": 26,
   "id": "d0823c03-b265-4fe3-a92f-953a51cd71f5",
   "metadata": {},
   "outputs": [],
   "source": [
    "t=(3,4,5,9,56.36,5+9j,'anmol',True)"
   ]
  },
  {
   "cell_type": "code",
   "execution_count": 27,
   "id": "f88662e7-9d0e-4689-8a5d-2c1dee23984d",
   "metadata": {},
   "outputs": [
    {
     "data": {
      "text/plain": [
       "(3, 4, 5, 9, 56.36, (5+9j), 'anmol', True)"
      ]
     },
     "execution_count": 27,
     "metadata": {},
     "output_type": "execute_result"
    }
   ],
   "source": [
    "t"
   ]
  },
  {
   "cell_type": "code",
   "execution_count": 29,
   "id": "a35c6499-4b94-46da-82bb-49a570dc731f",
   "metadata": {},
   "outputs": [
    {
     "data": {
      "text/plain": [
       "tuple"
      ]
     },
     "execution_count": 29,
     "metadata": {},
     "output_type": "execute_result"
    }
   ],
   "source": [
    "type(t)"
   ]
  },
  {
   "cell_type": "code",
   "execution_count": 30,
   "id": "07083879-fd54-4f97-8e43-12935544fe2e",
   "metadata": {},
   "outputs": [
    {
     "data": {
      "text/plain": [
       "8"
      ]
     },
     "execution_count": 30,
     "metadata": {},
     "output_type": "execute_result"
    }
   ],
   "source": [
    "len(t)"
   ]
  },
  {
   "cell_type": "code",
   "execution_count": 32,
   "id": "9d2ae7c6-4547-45a0-9eef-60888790c3c2",
   "metadata": {},
   "outputs": [
    {
     "data": {
      "text/plain": [
       "3"
      ]
     },
     "execution_count": 32,
     "metadata": {},
     "output_type": "execute_result"
    }
   ],
   "source": [
    "t[0]"
   ]
  },
  {
   "cell_type": "code",
   "execution_count": 33,
   "id": "368958e4-1168-4f69-b1c7-af4119e98553",
   "metadata": {},
   "outputs": [
    {
     "data": {
      "text/plain": [
       "True"
      ]
     },
     "execution_count": 33,
     "metadata": {},
     "output_type": "execute_result"
    }
   ],
   "source": [
    "t[-1]"
   ]
  },
  {
   "cell_type": "code",
   "execution_count": 34,
   "id": "0542c833-45c6-4b78-afbd-d5577a9a2022",
   "metadata": {},
   "outputs": [
    {
     "data": {
      "text/plain": [
       "(True, 'anmol', (5+9j), 56.36, 9, 5, 4, 3)"
      ]
     },
     "execution_count": 34,
     "metadata": {},
     "output_type": "execute_result"
    }
   ],
   "source": [
    "t[::-1]"
   ]
  },
  {
   "cell_type": "code",
   "execution_count": 35,
   "id": "84e01242-2bc8-466a-aa53-8f3da75123d2",
   "metadata": {},
   "outputs": [
    {
     "data": {
      "text/plain": [
       "['rapid', 'radhey', 'anmol']"
      ]
     },
     "execution_count": 35,
     "metadata": {},
     "output_type": "execute_result"
    }
   ],
   "source": [
    "l3"
   ]
  },
  {
   "cell_type": "code",
   "execution_count": 36,
   "id": "a695c833-4e52-4874-ad7b-b1027b50f592",
   "metadata": {},
   "outputs": [],
   "source": [
    "l3[0]=\"anm\""
   ]
  },
  {
   "cell_type": "code",
   "execution_count": 37,
   "id": "442f9ed4-d2b5-467a-b4d1-d4cd81634f88",
   "metadata": {},
   "outputs": [
    {
     "data": {
      "text/plain": [
       "['anm', 'radhey', 'anmol']"
      ]
     },
     "execution_count": 37,
     "metadata": {},
     "output_type": "execute_result"
    }
   ],
   "source": [
    "l3"
   ]
  },
  {
   "cell_type": "code",
   "execution_count": 38,
   "id": "a70e15f5-ac8c-41b9-9a18-f2f4844bd333",
   "metadata": {},
   "outputs": [
    {
     "data": {
      "text/plain": [
       "(3, 4, 5, 9, 56.36, (5+9j), 'anmol', True)"
      ]
     },
     "execution_count": 38,
     "metadata": {},
     "output_type": "execute_result"
    }
   ],
   "source": [
    "t"
   ]
  },
  {
   "cell_type": "code",
   "execution_count": 39,
   "id": "a6ae1fc7-ab5f-4b07-ae34-97ec1bf5cacd",
   "metadata": {},
   "outputs": [
    {
     "ename": "TypeError",
     "evalue": "'tuple' object does not support item assignment",
     "output_type": "error",
     "traceback": [
      "\u001b[0;31m---------------------------------------------------------------------------\u001b[0m",
      "\u001b[0;31mTypeError\u001b[0m                                 Traceback (most recent call last)",
      "Cell \u001b[0;32mIn[39], line 1\u001b[0m\n\u001b[0;32m----> 1\u001b[0m \u001b[43mt\u001b[49m\u001b[43m[\u001b[49m\u001b[38;5;241;43m0\u001b[39;49m\u001b[43m]\u001b[49m\u001b[38;5;241m=\u001b[39m \u001b[38;5;124m'\u001b[39m\u001b[38;5;124manm\u001b[39m\u001b[38;5;124m'\u001b[39m\n",
      "\u001b[0;31mTypeError\u001b[0m: 'tuple' object does not support item assignment"
     ]
    }
   ],
   "source": [
    "t[0]= 'anm'"
   ]
  },
  {
   "cell_type": "code",
   "execution_count": 40,
   "id": "443efff6-ace8-4014-b0bb-f3f554937941",
   "metadata": {},
   "outputs": [],
   "source": [
    "# concept of mutablity aka element assignment string and tuple are same in this case"
   ]
  },
  {
   "cell_type": "code",
   "execution_count": 41,
   "id": "3693cacc-32cf-4f59-910c-f8e732c164a8",
   "metadata": {},
   "outputs": [
    {
     "data": {
      "text/plain": [
       "(True, 'anmol', (5+9j), 56.36, 9, 5, 4, 3)"
      ]
     },
     "execution_count": 41,
     "metadata": {},
     "output_type": "execute_result"
    }
   ],
   "source": [
    "t[::-1]"
   ]
  },
  {
   "cell_type": "code",
   "execution_count": 42,
   "id": "a1641491-1da9-4521-a90c-c60fcbfb93c6",
   "metadata": {},
   "outputs": [
    {
     "data": {
      "text/plain": [
       "1"
      ]
     },
     "execution_count": 42,
     "metadata": {},
     "output_type": "execute_result"
    }
   ],
   "source": [
    "t.count(True)"
   ]
  },
  {
   "cell_type": "code",
   "execution_count": 43,
   "id": "8d12b102-0c87-4296-8f88-bc4e3ad2f544",
   "metadata": {},
   "outputs": [],
   "source": [
    "#count no. of times the element is available in tuple"
   ]
  },
  {
   "cell_type": "code",
   "execution_count": 44,
   "id": "09b0d945-3e54-4462-beb9-90d3d73510c7",
   "metadata": {},
   "outputs": [
    {
     "data": {
      "text/plain": [
       "6"
      ]
     },
     "execution_count": 44,
     "metadata": {},
     "output_type": "execute_result"
    }
   ],
   "source": [
    "t.index('anmol')"
   ]
  },
  {
   "cell_type": "code",
   "execution_count": null,
   "id": "a6d0cc54-2e2f-47a7-94f6-d15829d10164",
   "metadata": {},
   "outputs": [],
   "source": [
    "#tells the index of element in which index the element is present"
   ]
  },
  {
   "cell_type": "code",
   "execution_count": 45,
   "id": "49da9206-2c6c-4343-bb99-44bbf8969606",
   "metadata": {},
   "outputs": [],
   "source": [
    "#sets"
   ]
  },
  {
   "cell_type": "code",
   "execution_count": 46,
   "id": "4401b1c2-5f01-401b-91c7-01b461a51e7c",
   "metadata": {},
   "outputs": [],
   "source": [
    "s1={}"
   ]
  },
  {
   "cell_type": "code",
   "execution_count": 47,
   "id": "338015d2-c6c1-4382-9a2b-904d03293a4d",
   "metadata": {},
   "outputs": [
    {
     "data": {
      "text/plain": [
       "dict"
      ]
     },
     "execution_count": 47,
     "metadata": {},
     "output_type": "execute_result"
    }
   ],
   "source": [
    "type(s1)"
   ]
  },
  {
   "cell_type": "code",
   "execution_count": 48,
   "id": "16e5e9c8-eb5c-4554-8c5d-152087ebac5c",
   "metadata": {},
   "outputs": [],
   "source": [
    "s2={5,6,4,89.26,True,5+9j,\"anmol\"}"
   ]
  },
  {
   "cell_type": "code",
   "execution_count": 50,
   "id": "21a4cf40-37f1-4ad1-b1bc-bc61f1bc5e23",
   "metadata": {},
   "outputs": [
    {
     "data": {
      "text/plain": [
       "set"
      ]
     },
     "execution_count": 50,
     "metadata": {},
     "output_type": "execute_result"
    }
   ],
   "source": [
    "type(s2)"
   ]
  },
  {
   "cell_type": "code",
   "execution_count": 51,
   "id": "92f01b90-d4ef-44df-82bb-250026a4afd4",
   "metadata": {},
   "outputs": [
    {
     "ename": "TypeError",
     "evalue": "unhashable type: 'list'",
     "output_type": "error",
     "traceback": [
      "\u001b[0;31m---------------------------------------------------------------------------\u001b[0m",
      "\u001b[0;31mTypeError\u001b[0m                                 Traceback (most recent call last)",
      "Cell \u001b[0;32mIn[51], line 1\u001b[0m\n\u001b[0;32m----> 1\u001b[0m s3\u001b[38;5;241m=\u001b[39m{\u001b[38;5;241m4\u001b[39m,\u001b[38;5;241m5\u001b[39m,\u001b[38;5;241m6\u001b[39m,[\u001b[38;5;241m3\u001b[39m,\u001b[38;5;241m5\u001b[39m,\u001b[38;5;241m6\u001b[39m]}\n",
      "\u001b[0;31mTypeError\u001b[0m: unhashable type: 'list'"
     ]
    }
   ],
   "source": [
    "s3={4,5,6,[3,5,6]}"
   ]
  },
  {
   "cell_type": "code",
   "execution_count": 52,
   "id": "e15a0908-255d-493e-af51-2055d562d47f",
   "metadata": {},
   "outputs": [],
   "source": [
    "s4={4,5,6,(3,5,6)}"
   ]
  },
  {
   "cell_type": "code",
   "execution_count": 53,
   "id": "62889814-874e-4251-89f1-e8429c1b8849",
   "metadata": {},
   "outputs": [
    {
     "data": {
      "text/plain": [
       "{(3, 5, 6), 4, 5, 6}"
      ]
     },
     "execution_count": 53,
     "metadata": {},
     "output_type": "execute_result"
    }
   ],
   "source": [
    "s4"
   ]
  },
  {
   "cell_type": "code",
   "execution_count": 54,
   "id": "90a72197-01ae-4e88-87d2-ade3c0481500",
   "metadata": {},
   "outputs": [],
   "source": [
    "# normal bracket = tuple,  square bracket = list,  cury bracket= sets\n",
    "#sets can only hold tuple i.e immutable object "
   ]
  },
  {
   "cell_type": "code",
   "execution_count": 64,
   "id": "2bfe68f1-94c9-4848-b775-aa9581374a07",
   "metadata": {},
   "outputs": [],
   "source": [
    "s={1,2,5,2,5,24,6,546,2,5,6,45,6,4,5}"
   ]
  },
  {
   "cell_type": "code",
   "execution_count": 65,
   "id": "8bf336bb-1e73-4da0-bd20-3a455137b246",
   "metadata": {},
   "outputs": [
    {
     "data": {
      "text/plain": [
       "{1, 2, 4, 5, 6, 24, 45, 546}"
      ]
     },
     "execution_count": 65,
     "metadata": {},
     "output_type": "execute_result"
    }
   ],
   "source": [
    "s"
   ]
  },
  {
   "cell_type": "code",
   "execution_count": 66,
   "id": "fbc111bc-714d-4467-bcc0-ea7b71488a5f",
   "metadata": {},
   "outputs": [],
   "source": [
    "# sets remove the duplicate"
   ]
  },
  {
   "cell_type": "code",
   "execution_count": 67,
   "id": "07f1c251-7ad8-4e37-898f-467a4a16347c",
   "metadata": {},
   "outputs": [],
   "source": [
    "l6=[1,2,5,2,5,24,6,546,2,5,6,45,6,4,5]"
   ]
  },
  {
   "cell_type": "code",
   "execution_count": 68,
   "id": "61bccca5-cd8f-4529-a058-1464bcafdd3a",
   "metadata": {},
   "outputs": [
    {
     "data": {
      "text/plain": [
       "[1, 2, 5, 2, 5, 24, 6, 546, 2, 5, 6, 45, 6, 4, 5]"
      ]
     },
     "execution_count": 68,
     "metadata": {},
     "output_type": "execute_result"
    }
   ],
   "source": [
    "l6"
   ]
  },
  {
   "cell_type": "code",
   "execution_count": 69,
   "id": "c55c79d3-c1b3-4f9f-badb-d8533e0caecd",
   "metadata": {},
   "outputs": [],
   "source": [
    "l6=list(set(l6))"
   ]
  },
  {
   "cell_type": "code",
   "execution_count": 70,
   "id": "ae10b237-83b7-4f6c-9840-786665d49e0d",
   "metadata": {},
   "outputs": [
    {
     "data": {
      "text/plain": [
       "[1, 2, 546, 4, 5, 6, 45, 24]"
      ]
     },
     "execution_count": 70,
     "metadata": {},
     "output_type": "execute_result"
    }
   ],
   "source": [
    "l6"
   ]
  },
  {
   "cell_type": "code",
   "execution_count": 71,
   "id": "b00b7cf5-6794-4073-a9b8-50fdaa886ab5",
   "metadata": {},
   "outputs": [
    {
     "data": {
      "text/plain": [
       "{1, 2, 4, 5, 6, 24, 45, 546}"
      ]
     },
     "execution_count": 71,
     "metadata": {},
     "output_type": "execute_result"
    }
   ],
   "source": [
    "s"
   ]
  },
  {
   "cell_type": "code",
   "execution_count": 72,
   "id": "a76127b8-3bd6-4d63-93ee-3dc1eb80134d",
   "metadata": {},
   "outputs": [
    {
     "ename": "TypeError",
     "evalue": "'set' object is not subscriptable",
     "output_type": "error",
     "traceback": [
      "\u001b[0;31m---------------------------------------------------------------------------\u001b[0m",
      "\u001b[0;31mTypeError\u001b[0m                                 Traceback (most recent call last)",
      "Cell \u001b[0;32mIn[72], line 1\u001b[0m\n\u001b[0;32m----> 1\u001b[0m \u001b[43ms\u001b[49m\u001b[43m[\u001b[49m\u001b[38;5;241;43m0\u001b[39;49m\u001b[43m]\u001b[49m\n",
      "\u001b[0;31mTypeError\u001b[0m: 'set' object is not subscriptable"
     ]
    }
   ],
   "source": [
    "s[0]"
   ]
  },
  {
   "cell_type": "code",
   "execution_count": 73,
   "id": "4637aaa8-3444-47f4-ab72-53a3c72350d0",
   "metadata": {},
   "outputs": [
    {
     "ename": "TypeError",
     "evalue": "'set' object is not subscriptable",
     "output_type": "error",
     "traceback": [
      "\u001b[0;31m---------------------------------------------------------------------------\u001b[0m",
      "\u001b[0;31mTypeError\u001b[0m                                 Traceback (most recent call last)",
      "Cell \u001b[0;32mIn[73], line 1\u001b[0m\n\u001b[0;32m----> 1\u001b[0m \u001b[43ms\u001b[49m\u001b[43m[\u001b[49m\u001b[43m:\u001b[49m\u001b[43m:\u001b[49m\u001b[38;5;241;43m-\u001b[39;49m\u001b[38;5;241;43m1\u001b[39;49m\u001b[43m]\u001b[49m\n",
      "\u001b[0;31mTypeError\u001b[0m: 'set' object is not subscriptable"
     ]
    }
   ],
   "source": [
    "s[::-1]"
   ]
  },
  {
   "cell_type": "code",
   "execution_count": 74,
   "id": "f9e06abc-9b06-45cb-b371-6714582b8246",
   "metadata": {},
   "outputs": [],
   "source": [
    "#both indexing and slicing are not possible in sets "
   ]
  },
  {
   "cell_type": "code",
   "execution_count": 75,
   "id": "eca4b278-1a93-4777-8234-0c8d0c661e22",
   "metadata": {},
   "outputs": [],
   "source": [
    "s.add(96)"
   ]
  },
  {
   "cell_type": "code",
   "execution_count": 76,
   "id": "e41a86ec-4249-4388-b764-b3fe1c3164ae",
   "metadata": {},
   "outputs": [
    {
     "data": {
      "text/plain": [
       "{1, 2, 4, 5, 6, 24, 45, 96, 546}"
      ]
     },
     "execution_count": 76,
     "metadata": {},
     "output_type": "execute_result"
    }
   ],
   "source": [
    "s"
   ]
  },
  {
   "cell_type": "code",
   "execution_count": 77,
   "id": "a2bed86d-7856-4d00-9595-e4be2592651e",
   "metadata": {},
   "outputs": [],
   "source": [
    "s.remove(24)"
   ]
  },
  {
   "cell_type": "code",
   "execution_count": 78,
   "id": "bd323d01-c9c0-46de-a735-4fe5a34d5148",
   "metadata": {},
   "outputs": [
    {
     "data": {
      "text/plain": [
       "{1, 2, 4, 5, 6, 45, 96, 546}"
      ]
     },
     "execution_count": 78,
     "metadata": {},
     "output_type": "execute_result"
    }
   ],
   "source": [
    "s"
   ]
  },
  {
   "cell_type": "code",
   "execution_count": null,
   "id": "8c555249-eb6c-4554-a4c3-48de94a65552",
   "metadata": {},
   "outputs": [],
   "source": []
  }
 ],
 "metadata": {
  "kernelspec": {
   "display_name": "Python 3 (ipykernel)",
   "language": "python",
   "name": "python3"
  },
  "language_info": {
   "codemirror_mode": {
    "name": "ipython",
    "version": 3
   },
   "file_extension": ".py",
   "mimetype": "text/x-python",
   "name": "python",
   "nbconvert_exporter": "python",
   "pygments_lexer": "ipython3",
   "version": "3.10.8"
  }
 },
 "nbformat": 4,
 "nbformat_minor": 5
}
