{
 "cells": [
  {
   "cell_type": "code",
   "execution_count": 1,
   "id": "845deaa9-3662-44b5-bcce-35be64b72525",
   "metadata": {},
   "outputs": [],
   "source": [
    "# 1 feb dict and conditional statements \n"
   ]
  },
  {
   "cell_type": "code",
   "execution_count": 2,
   "id": "0981a81e-32ce-4885-9c1a-d947145aa86f",
   "metadata": {},
   "outputs": [],
   "source": [
    "d = {}"
   ]
  },
  {
   "cell_type": "code",
   "execution_count": 3,
   "id": "095c4ad2-147b-43a4-8d2b-caa736c3ab4b",
   "metadata": {},
   "outputs": [
    {
     "data": {
      "text/plain": [
       "dict"
      ]
     },
     "execution_count": 3,
     "metadata": {},
     "output_type": "execute_result"
    }
   ],
   "source": [
    "type(d)"
   ]
  },
  {
   "cell_type": "code",
   "execution_count": 4,
   "id": "d1f9626e-71ae-4577-9796-d34392052bd5",
   "metadata": {},
   "outputs": [],
   "source": [
    "d2= {'key' : 'value'}"
   ]
  },
  {
   "cell_type": "code",
   "execution_count": 5,
   "id": "1b104146-6111-441b-8bdb-d4dbe1dbb1c8",
   "metadata": {},
   "outputs": [
    {
     "data": {
      "text/plain": [
       "{'key': 'value'}"
      ]
     },
     "execution_count": 5,
     "metadata": {},
     "output_type": "execute_result"
    }
   ],
   "source": [
    "d2"
   ]
  },
  {
   "cell_type": "code",
   "execution_count": 10,
   "id": "e205cb7e-f935-4ca5-998a-c544fd1d003f",
   "metadata": {},
   "outputs": [],
   "source": [
    "d3= {'name': 'anmol', 'email': 'anmol@gmail.com', 'number' : 85320445255}"
   ]
  },
  {
   "cell_type": "code",
   "execution_count": 11,
   "id": "51da9591-d58a-43c8-b4cf-141c202c52dd",
   "metadata": {},
   "outputs": [
    {
     "data": {
      "text/plain": [
       "{'name': 'anmol', 'email': 'anmol@gmail.com', 'number': 85320445255}"
      ]
     },
     "execution_count": 11,
     "metadata": {},
     "output_type": "execute_result"
    }
   ],
   "source": [
    "d3"
   ]
  },
  {
   "cell_type": "code",
   "execution_count": 12,
   "id": "d2aa9418-38de-488a-af96-fae38160718f",
   "metadata": {},
   "outputs": [],
   "source": [
    "d4 = { 214 : 'anmol' , True : 'sam', 'xyz' : 'konan'}"
   ]
  },
  {
   "cell_type": "code",
   "execution_count": 13,
   "id": "9936a0fb-ec7c-4ed8-935b-ee0a41dfed1c",
   "metadata": {},
   "outputs": [
    {
     "data": {
      "text/plain": [
       "{214: 'anmol', True: 'sam', 'xyz': 'konan'}"
      ]
     },
     "execution_count": 13,
     "metadata": {},
     "output_type": "execute_result"
    }
   ],
   "source": [
    "d4"
   ]
  },
  {
   "cell_type": "code",
   "execution_count": 14,
   "id": "973b6b7f-e822-480c-8105-e879c4514307",
   "metadata": {},
   "outputs": [
    {
     "data": {
      "text/plain": [
       "'anmol'"
      ]
     },
     "execution_count": 14,
     "metadata": {},
     "output_type": "execute_result"
    }
   ],
   "source": [
    "d4 [214]"
   ]
  },
  {
   "cell_type": "code",
   "execution_count": 16,
   "id": "fd5a374b-4bdd-47be-b8ef-006333517b21",
   "metadata": {},
   "outputs": [
    {
     "data": {
      "text/plain": [
       "'sam'"
      ]
     },
     "execution_count": 16,
     "metadata": {},
     "output_type": "execute_result"
    }
   ],
   "source": [
    "d4 [1]"
   ]
  },
  {
   "cell_type": "code",
   "execution_count": 17,
   "id": "9440db76-4bfa-4edf-87f4-d7e3caf017c3",
   "metadata": {},
   "outputs": [],
   "source": [
    "# this works because we can said true as 1 also "
   ]
  },
  {
   "cell_type": "code",
   "execution_count": 18,
   "id": "5412f503-f455-4bf8-99d2-fa82e6b756ae",
   "metadata": {},
   "outputs": [],
   "source": [
    "d5 = { 214 : 'anmol' , True : 'sam', 'name ' : 'konan', \"name\" : 'itachi'}"
   ]
  },
  {
   "cell_type": "code",
   "execution_count": 19,
   "id": "f844d210-42c1-40f0-9780-8effc04c77a6",
   "metadata": {},
   "outputs": [
    {
     "data": {
      "text/plain": [
       "'itachi'"
      ]
     },
     "execution_count": 19,
     "metadata": {},
     "output_type": "execute_result"
    }
   ],
   "source": [
    "d5['name']"
   ]
  },
  {
   "cell_type": "code",
   "execution_count": 20,
   "id": "a3c215d7-578d-48d0-bd33-0d97729f8fda",
   "metadata": {},
   "outputs": [],
   "source": [
    "# is key is not unique then its write by latest value "
   ]
  },
  {
   "cell_type": "code",
   "execution_count": 21,
   "id": "7dae4c94-d34b-497c-8a82-ec1e2e8072d3",
   "metadata": {},
   "outputs": [],
   "source": [
    "d6 = {'company ' : 'pwskills', 'courses' : ['webdev', 'data science ' , 'java with dsa '] }"
   ]
  },
  {
   "cell_type": "code",
   "execution_count": 22,
   "id": "9901c269-ec79-4366-8518-26147172d07e",
   "metadata": {},
   "outputs": [
    {
     "data": {
      "text/plain": [
       "{'company ': 'pwskills',\n",
       " 'courses': ['webdev', 'data science ', 'java with dsa ']}"
      ]
     },
     "execution_count": 22,
     "metadata": {},
     "output_type": "execute_result"
    }
   ],
   "source": [
    "d6"
   ]
  },
  {
   "cell_type": "code",
   "execution_count": 23,
   "id": "5263bf6c-2011-4924-bc9f-27f656ba2034",
   "metadata": {},
   "outputs": [
    {
     "data": {
      "text/plain": [
       "['webdev', 'data science ', 'java with dsa ']"
      ]
     },
     "execution_count": 23,
     "metadata": {},
     "output_type": "execute_result"
    }
   ],
   "source": [
    "d6 ['courses']"
   ]
  },
  {
   "cell_type": "code",
   "execution_count": 24,
   "id": "3249bfcb-ff9a-4b8a-83c9-2fec7bb1d848",
   "metadata": {},
   "outputs": [
    {
     "data": {
      "text/plain": [
       "'java with dsa '"
      ]
     },
     "execution_count": 24,
     "metadata": {},
     "output_type": "execute_result"
    }
   ],
   "source": [
    "d6 ['courses'][2]"
   ]
  },
  {
   "cell_type": "code",
   "execution_count": 44,
   "id": "8cbfdfe4-f498-4caf-bb10-56acd65e19d4",
   "metadata": {},
   "outputs": [],
   "source": [
    "d8= {   'numbers ' : (2,3,5,78)  ,'classes': [7,5,8,98] , 'teachers': {7,5,6,2,3}  }"
   ]
  },
  {
   "cell_type": "code",
   "execution_count": 49,
   "id": "561cc8e0-59fc-4ee2-aa90-91e1e2a7a70a",
   "metadata": {},
   "outputs": [
    {
     "data": {
      "text/plain": [
       "{'numbers ': (2, 3, 5, 78),\n",
       " 'classes': [7, 5, 8, 98],\n",
       " 'teachers': {2, 3, 5, 6, 7}}"
      ]
     },
     "execution_count": 49,
     "metadata": {},
     "output_type": "execute_result"
    }
   ],
   "source": [
    "d8"
   ]
  },
  {
   "cell_type": "code",
   "execution_count": 56,
   "id": "f1ea9145-05e7-43bf-a306-74ab5b905350",
   "metadata": {},
   "outputs": [
    {
     "data": {
      "text/plain": [
       "(2, 3, 5, 78)"
      ]
     },
     "execution_count": 56,
     "metadata": {},
     "output_type": "execute_result"
    }
   ],
   "source": [
    "d8 ['numbers ']"
   ]
  },
  {
   "cell_type": "code",
   "execution_count": 51,
   "id": "a389946e-96d8-4fa7-9da6-3bde11def091",
   "metadata": {},
   "outputs": [
    {
     "data": {
      "text/plain": [
       "{'numbers ': (2, 3, 5, 78),\n",
       " 'classes': [7, 5, 8, 98],\n",
       " 'teachers': {2, 3, 5, 6, 7}}"
      ]
     },
     "execution_count": 51,
     "metadata": {},
     "output_type": "execute_result"
    }
   ],
   "source": [
    "d8"
   ]
  },
  {
   "cell_type": "code",
   "execution_count": 57,
   "id": "b8c46442-6dc2-4415-8c04-67ebce622655",
   "metadata": {},
   "outputs": [
    {
     "data": {
      "text/plain": [
       "78"
      ]
     },
     "execution_count": 57,
     "metadata": {},
     "output_type": "execute_result"
    }
   ],
   "source": [
    "d8['numbers '][3]"
   ]
  },
  {
   "cell_type": "code",
   "execution_count": 60,
   "id": "76eae7ee-e5a1-4126-9a2f-ad9bb4eb7c90",
   "metadata": {},
   "outputs": [],
   "source": [
    "d8['rool no.'] = [ 1,2,3,4,5,6,7,8,9]"
   ]
  },
  {
   "cell_type": "code",
   "execution_count": 61,
   "id": "0a67367b-2ac2-4804-80e0-5480bd11b2df",
   "metadata": {},
   "outputs": [
    {
     "data": {
      "text/plain": [
       "{'numbers ': (2, 3, 5, 78),\n",
       " 'classes': [7, 5, 8, 98],\n",
       " 'teachers': {2, 3, 5, 6, 7},\n",
       " 'rool no.': [1, 2, 3, 4, 5, 6, 7, 8, 9]}"
      ]
     },
     "execution_count": 61,
     "metadata": {},
     "output_type": "execute_result"
    }
   ],
   "source": [
    "d8"
   ]
  },
  {
   "cell_type": "code",
   "execution_count": 62,
   "id": "96fd2162-0803-4f09-aa9d-d8d1ff91c1ee",
   "metadata": {},
   "outputs": [],
   "source": [
    "#add and delete in dic "
   ]
  },
  {
   "cell_type": "code",
   "execution_count": 63,
   "id": "a817b24d-c075-44ef-b9e1-979d4eb5b7cd",
   "metadata": {},
   "outputs": [],
   "source": [
    "del d8['numbers ']"
   ]
  },
  {
   "cell_type": "code",
   "execution_count": 64,
   "id": "4b421ad9-40b6-411c-abf1-ccaad7b812d2",
   "metadata": {},
   "outputs": [
    {
     "data": {
      "text/plain": [
       "{'classes': [7, 5, 8, 98],\n",
       " 'teachers': {2, 3, 5, 6, 7},\n",
       " 'rool no.': [1, 2, 3, 4, 5, 6, 7, 8, 9]}"
      ]
     },
     "execution_count": 64,
     "metadata": {},
     "output_type": "execute_result"
    }
   ],
   "source": [
    "d8"
   ]
  },
  {
   "cell_type": "code",
   "execution_count": 67,
   "id": "b164c5a5-9592-42f2-906f-99d4f7dfec14",
   "metadata": {},
   "outputs": [
    {
     "data": {
      "text/plain": [
       "['classes', 'teachers', 'rool no.']"
      ]
     },
     "execution_count": 67,
     "metadata": {},
     "output_type": "execute_result"
    }
   ],
   "source": [
    "list(d8.keys())"
   ]
  },
  {
   "cell_type": "code",
   "execution_count": 69,
   "id": "94ade3bd-d639-4bb0-8172-c336b4d6b58d",
   "metadata": {},
   "outputs": [
    {
     "data": {
      "text/plain": [
       "[[7, 5, 8, 98], {2, 3, 5, 6, 7}, [1, 2, 3, 4, 5, 6, 7, 8, 9]]"
      ]
     },
     "execution_count": 69,
     "metadata": {},
     "output_type": "execute_result"
    }
   ],
   "source": [
    "list(d8.values())"
   ]
  },
  {
   "cell_type": "code",
   "execution_count": 70,
   "id": "d09739f1-eaa4-4fe9-8cea-bb27874870ac",
   "metadata": {},
   "outputs": [
    {
     "data": {
      "text/plain": [
       "dict_items([('classes', [7, 5, 8, 98]), ('teachers', {2, 3, 5, 6, 7}), ('rool no.', [1, 2, 3, 4, 5, 6, 7, 8, 9])])"
      ]
     },
     "execution_count": 70,
     "metadata": {},
     "output_type": "execute_result"
    }
   ],
   "source": [
    "d8.items()"
   ]
  },
  {
   "cell_type": "code",
   "execution_count": 2,
   "id": "4986e7fa-31c8-44bf-8486-71783b3a22bb",
   "metadata": {},
   "outputs": [
    {
     "ename": "NameError",
     "evalue": "name 'd8' is not defined",
     "output_type": "error",
     "traceback": [
      "\u001b[0;31m---------------------------------------------------------------------------\u001b[0m",
      "\u001b[0;31mNameError\u001b[0m                                 Traceback (most recent call last)",
      "Cell \u001b[0;32mIn[2], line 1\u001b[0m\n\u001b[0;32m----> 1\u001b[0m \u001b[38;5;28mlist\u001b[39m(\u001b[43md8\u001b[49m\u001b[38;5;241m.\u001b[39mitems())\n",
      "\u001b[0;31mNameError\u001b[0m: name 'd8' is not defined"
     ]
    }
   ],
   "source": [
    "list(d8.items())"
   ]
  },
  {
   "cell_type": "code",
   "execution_count": null,
   "id": "164ea4cd-9572-4f63-a3fe-1e342f1ea18a",
   "metadata": {},
   "outputs": [],
   "source": []
  }
 ],
 "metadata": {
  "kernelspec": {
   "display_name": "Python 3 (ipykernel)",
   "language": "python",
   "name": "python3"
  },
  "language_info": {
   "codemirror_mode": {
    "name": "ipython",
    "version": 3
   },
   "file_extension": ".py",
   "mimetype": "text/x-python",
   "name": "python",
   "nbconvert_exporter": "python",
   "pygments_lexer": "ipython3",
   "version": "3.10.8"
  }
 },
 "nbformat": 4,
 "nbformat_minor": 5
}
